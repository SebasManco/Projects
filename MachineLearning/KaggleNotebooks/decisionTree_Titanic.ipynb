{
  "nbformat": 4,
  "nbformat_minor": 0,
  "metadata": {
    "colab": {
      "provenance": []
    },
    "kernelspec": {
      "name": "python3",
      "display_name": "Python 3"
    },
    "language_info": {
      "name": "python"
    },
    "widgets": {
      "application/vnd.jupyter.widget-state+json": {
        "ded0bebd13f847d893967ed89fe79f0b": {
          "model_module": "@jupyter-widgets/controls",
          "model_name": "VBoxModel",
          "model_module_version": "1.5.0",
          "state": {
            "_dom_classes": [
              "widget-interact"
            ],
            "_model_module": "@jupyter-widgets/controls",
            "_model_module_version": "1.5.0",
            "_model_name": "VBoxModel",
            "_view_count": null,
            "_view_module": "@jupyter-widgets/controls",
            "_view_module_version": "1.5.0",
            "_view_name": "VBoxView",
            "box_style": "",
            "children": [
              "IPY_MODEL_41b864b8602040259eae9e2854c86ba6",
              "IPY_MODEL_51500db2deb54d9e97a076bdb0122f92",
              "IPY_MODEL_a216bb1a4d6a4362a3edeb7ddc67cc23"
            ],
            "layout": "IPY_MODEL_1636bc03dacd4cbaba209ab41ed6f7c9"
          }
        },
        "41b864b8602040259eae9e2854c86ba6": {
          "model_module": "@jupyter-widgets/controls",
          "model_name": "DropdownModel",
          "model_module_version": "1.5.0",
          "state": {
            "_dom_classes": [],
            "_model_module": "@jupyter-widgets/controls",
            "_model_module_version": "1.5.0",
            "_model_name": "DropdownModel",
            "_options_labels": [
              "Age",
              "SibSp",
              "Parch",
              "LogFare",
              "Pclass"
            ],
            "_view_count": null,
            "_view_module": "@jupyter-widgets/controls",
            "_view_module_version": "1.5.0",
            "_view_name": "DropdownView",
            "description": "nm",
            "description_tooltip": null,
            "disabled": false,
            "index": 0,
            "layout": "IPY_MODEL_6ec486a8610d4449ad185c0dc2b9779c",
            "style": "IPY_MODEL_8aea5e5753bb4720bd48840712635fc0"
          }
        },
        "51500db2deb54d9e97a076bdb0122f92": {
          "model_module": "@jupyter-widgets/controls",
          "model_name": "FloatSliderModel",
          "model_module_version": "1.5.0",
          "state": {
            "_dom_classes": [],
            "_model_module": "@jupyter-widgets/controls",
            "_model_module_version": "1.5.0",
            "_model_name": "FloatSliderModel",
            "_view_count": null,
            "_view_module": "@jupyter-widgets/controls",
            "_view_module_version": "1.5.0",
            "_view_name": "FloatSliderView",
            "continuous_update": true,
            "description": "split",
            "description_tooltip": null,
            "disabled": false,
            "layout": "IPY_MODEL_4d030287bf3c4369872e81a1efd44c14",
            "max": 46.5,
            "min": -15.5,
            "orientation": "horizontal",
            "readout": true,
            "readout_format": ".2f",
            "step": 0.1,
            "style": "IPY_MODEL_c73765d6276345fcbff163e610bd5648",
            "value": 15.5
          }
        },
        "a216bb1a4d6a4362a3edeb7ddc67cc23": {
          "model_module": "@jupyter-widgets/output",
          "model_name": "OutputModel",
          "model_module_version": "1.0.0",
          "state": {
            "_dom_classes": [],
            "_model_module": "@jupyter-widgets/output",
            "_model_module_version": "1.0.0",
            "_model_name": "OutputModel",
            "_view_count": null,
            "_view_module": "@jupyter-widgets/output",
            "_view_module_version": "1.0.0",
            "_view_name": "OutputView",
            "layout": "IPY_MODEL_0f3fe0c632a9421ea4bb19d24c9975de",
            "msg_id": "",
            "outputs": [
              {
                "output_type": "display_data",
                "data": {
                  "text/plain": "0.48105614369455413"
                },
                "metadata": {}
              }
            ]
          }
        },
        "1636bc03dacd4cbaba209ab41ed6f7c9": {
          "model_module": "@jupyter-widgets/base",
          "model_name": "LayoutModel",
          "model_module_version": "1.2.0",
          "state": {
            "_model_module": "@jupyter-widgets/base",
            "_model_module_version": "1.2.0",
            "_model_name": "LayoutModel",
            "_view_count": null,
            "_view_module": "@jupyter-widgets/base",
            "_view_module_version": "1.2.0",
            "_view_name": "LayoutView",
            "align_content": null,
            "align_items": null,
            "align_self": null,
            "border": null,
            "bottom": null,
            "display": null,
            "flex": null,
            "flex_flow": null,
            "grid_area": null,
            "grid_auto_columns": null,
            "grid_auto_flow": null,
            "grid_auto_rows": null,
            "grid_column": null,
            "grid_gap": null,
            "grid_row": null,
            "grid_template_areas": null,
            "grid_template_columns": null,
            "grid_template_rows": null,
            "height": null,
            "justify_content": null,
            "justify_items": null,
            "left": null,
            "margin": null,
            "max_height": null,
            "max_width": null,
            "min_height": null,
            "min_width": null,
            "object_fit": null,
            "object_position": null,
            "order": null,
            "overflow": null,
            "overflow_x": null,
            "overflow_y": null,
            "padding": null,
            "right": null,
            "top": null,
            "visibility": null,
            "width": null
          }
        },
        "6ec486a8610d4449ad185c0dc2b9779c": {
          "model_module": "@jupyter-widgets/base",
          "model_name": "LayoutModel",
          "model_module_version": "1.2.0",
          "state": {
            "_model_module": "@jupyter-widgets/base",
            "_model_module_version": "1.2.0",
            "_model_name": "LayoutModel",
            "_view_count": null,
            "_view_module": "@jupyter-widgets/base",
            "_view_module_version": "1.2.0",
            "_view_name": "LayoutView",
            "align_content": null,
            "align_items": null,
            "align_self": null,
            "border": null,
            "bottom": null,
            "display": null,
            "flex": null,
            "flex_flow": null,
            "grid_area": null,
            "grid_auto_columns": null,
            "grid_auto_flow": null,
            "grid_auto_rows": null,
            "grid_column": null,
            "grid_gap": null,
            "grid_row": null,
            "grid_template_areas": null,
            "grid_template_columns": null,
            "grid_template_rows": null,
            "height": null,
            "justify_content": null,
            "justify_items": null,
            "left": null,
            "margin": null,
            "max_height": null,
            "max_width": null,
            "min_height": null,
            "min_width": null,
            "object_fit": null,
            "object_position": null,
            "order": null,
            "overflow": null,
            "overflow_x": null,
            "overflow_y": null,
            "padding": null,
            "right": null,
            "top": null,
            "visibility": null,
            "width": null
          }
        },
        "8aea5e5753bb4720bd48840712635fc0": {
          "model_module": "@jupyter-widgets/controls",
          "model_name": "DescriptionStyleModel",
          "model_module_version": "1.5.0",
          "state": {
            "_model_module": "@jupyter-widgets/controls",
            "_model_module_version": "1.5.0",
            "_model_name": "DescriptionStyleModel",
            "_view_count": null,
            "_view_module": "@jupyter-widgets/base",
            "_view_module_version": "1.2.0",
            "_view_name": "StyleView",
            "description_width": ""
          }
        },
        "4d030287bf3c4369872e81a1efd44c14": {
          "model_module": "@jupyter-widgets/base",
          "model_name": "LayoutModel",
          "model_module_version": "1.2.0",
          "state": {
            "_model_module": "@jupyter-widgets/base",
            "_model_module_version": "1.2.0",
            "_model_name": "LayoutModel",
            "_view_count": null,
            "_view_module": "@jupyter-widgets/base",
            "_view_module_version": "1.2.0",
            "_view_name": "LayoutView",
            "align_content": null,
            "align_items": null,
            "align_self": null,
            "border": null,
            "bottom": null,
            "display": null,
            "flex": null,
            "flex_flow": null,
            "grid_area": null,
            "grid_auto_columns": null,
            "grid_auto_flow": null,
            "grid_auto_rows": null,
            "grid_column": null,
            "grid_gap": null,
            "grid_row": null,
            "grid_template_areas": null,
            "grid_template_columns": null,
            "grid_template_rows": null,
            "height": null,
            "justify_content": null,
            "justify_items": null,
            "left": null,
            "margin": null,
            "max_height": null,
            "max_width": null,
            "min_height": null,
            "min_width": null,
            "object_fit": null,
            "object_position": null,
            "order": null,
            "overflow": null,
            "overflow_x": null,
            "overflow_y": null,
            "padding": null,
            "right": null,
            "top": null,
            "visibility": null,
            "width": null
          }
        },
        "c73765d6276345fcbff163e610bd5648": {
          "model_module": "@jupyter-widgets/controls",
          "model_name": "SliderStyleModel",
          "model_module_version": "1.5.0",
          "state": {
            "_model_module": "@jupyter-widgets/controls",
            "_model_module_version": "1.5.0",
            "_model_name": "SliderStyleModel",
            "_view_count": null,
            "_view_module": "@jupyter-widgets/base",
            "_view_module_version": "1.2.0",
            "_view_name": "StyleView",
            "description_width": "",
            "handle_color": null
          }
        },
        "0f3fe0c632a9421ea4bb19d24c9975de": {
          "model_module": "@jupyter-widgets/base",
          "model_name": "LayoutModel",
          "model_module_version": "1.2.0",
          "state": {
            "_model_module": "@jupyter-widgets/base",
            "_model_module_version": "1.2.0",
            "_model_name": "LayoutModel",
            "_view_count": null,
            "_view_module": "@jupyter-widgets/base",
            "_view_module_version": "1.2.0",
            "_view_name": "LayoutView",
            "align_content": null,
            "align_items": null,
            "align_self": null,
            "border": null,
            "bottom": null,
            "display": null,
            "flex": null,
            "flex_flow": null,
            "grid_area": null,
            "grid_auto_columns": null,
            "grid_auto_flow": null,
            "grid_auto_rows": null,
            "grid_column": null,
            "grid_gap": null,
            "grid_row": null,
            "grid_template_areas": null,
            "grid_template_columns": null,
            "grid_template_rows": null,
            "height": null,
            "justify_content": null,
            "justify_items": null,
            "left": null,
            "margin": null,
            "max_height": null,
            "max_width": null,
            "min_height": null,
            "min_width": null,
            "object_fit": null,
            "object_position": null,
            "order": null,
            "overflow": null,
            "overflow_x": null,
            "overflow_y": null,
            "padding": null,
            "right": null,
            "top": null,
            "visibility": null,
            "width": null
          }
        }
      }
    }
  },
  "cells": [
    {
      "cell_type": "code",
      "source": [
        "#@title Import the competition dataset\n",
        "from pathlib import Path\n",
        "import os\n",
        "\n",
        "creds = '{\"username\":\"sebasmanco\",\"key\":\"a0f01aadb0e584b9c9aa0e8ebf5a2696\"}'                        # credentials for kaggle APi\n",
        "\n",
        "cred_path = Path('~/.kaggle/kaggle.json').expanduser()\n",
        "if not cred_path.exists():\n",
        "    cred_path.parent.mkdir(exist_ok=True)\n",
        "    cred_path.write_text(creds)\n",
        "    cred_path.chmod(0o600)\n",
        "\n",
        "iskaggle = os.environ.get('KAGGLE_KERNEL_RUN_TYPE', '')\n",
        "if iskaggle:\n",
        "    path = Path('../input/titanic')\n",
        "    !pip install -Uqq fastai\n",
        "else:\n",
        "    import zipfile,kaggle\n",
        "    path = Path('titanic')\n",
        "    if not path.exists():\n",
        "        kaggle.api.competition_download_cli(str(path))\n",
        "        zipfile.ZipFile(f'{path}.zip').extractall(path)"
      ],
      "metadata": {
        "cellView": "form",
        "id": "f0hjpqqLcq_l",
        "colab": {
          "base_uri": "https://localhost:8080/"
        },
        "outputId": "e620d079-c792-4b0b-f7dc-7a90cb955a11"
      },
      "execution_count": null,
      "outputs": [
        {
          "output_type": "stream",
          "name": "stdout",
          "text": [
            "Downloading titanic.zip to /content\n"
          ]
        },
        {
          "output_type": "stream",
          "name": "stderr",
          "text": [
            "100%|██████████| 34.1k/34.1k [00:00<00:00, 30.9MB/s]"
          ]
        },
        {
          "output_type": "stream",
          "name": "stdout",
          "text": [
            "\n"
          ]
        },
        {
          "output_type": "stream",
          "name": "stderr",
          "text": [
            "\n"
          ]
        }
      ]
    },
    {
      "cell_type": "markdown",
      "source": [
        "# Random forests"
      ],
      "metadata": {
        "id": "GfJgym-jcQlG"
      }
    },
    {
      "cell_type": "markdown",
      "source": [
        "## Binary splits"
      ],
      "metadata": {
        "id": "o9shWs2xgY8D"
      }
    },
    {
      "cell_type": "code",
      "execution_count": null,
      "metadata": {
        "id": "kAbK4kXpcMRA"
      },
      "outputs": [],
      "source": [
        "# import of the immportant libraries like numpy, pandas etc\n",
        "from fastai.imports import *\n",
        "np.set_printoptions(linewidth=130)\n",
        "%config InlineBackend.figure_format = 'retina'"
      ]
    },
    {
      "cell_type": "code",
      "source": [
        "df = pd.read_csv(path/'train.csv')\n",
        "tst_df = pd.read_csv(path/'test.csv')\n",
        "modes = df.mode().iloc[0]\n",
        "\n",
        "df"
      ],
      "metadata": {
        "colab": {
          "base_uri": "https://localhost:8080/",
          "height": 424
        },
        "id": "r4HfUrUBdmPN",
        "outputId": "c56d4114-d58f-4432-cae8-3bd4f9ec1fd6"
      },
      "execution_count": null,
      "outputs": [
        {
          "output_type": "execute_result",
          "data": {
            "text/plain": [
              "     PassengerId  Survived  Pclass  \\\n",
              "0              1         0       3   \n",
              "1              2         1       1   \n",
              "2              3         1       3   \n",
              "3              4         1       1   \n",
              "4              5         0       3   \n",
              "..           ...       ...     ...   \n",
              "886          887         0       2   \n",
              "887          888         1       1   \n",
              "888          889         0       3   \n",
              "889          890         1       1   \n",
              "890          891         0       3   \n",
              "\n",
              "                                                    Name     Sex   Age  SibSp  \\\n",
              "0                                Braund, Mr. Owen Harris    male  22.0      1   \n",
              "1    Cumings, Mrs. John Bradley (Florence Briggs Thayer)  female  38.0      1   \n",
              "2                                 Heikkinen, Miss. Laina  female  26.0      0   \n",
              "3           Futrelle, Mrs. Jacques Heath (Lily May Peel)  female  35.0      1   \n",
              "4                               Allen, Mr. William Henry    male  35.0      0   \n",
              "..                                                   ...     ...   ...    ...   \n",
              "886                                Montvila, Rev. Juozas    male  27.0      0   \n",
              "887                         Graham, Miss. Margaret Edith  female  19.0      0   \n",
              "888             Johnston, Miss. Catherine Helen \"Carrie\"  female   NaN      1   \n",
              "889                                Behr, Mr. Karl Howell    male  26.0      0   \n",
              "890                                  Dooley, Mr. Patrick    male  32.0      0   \n",
              "\n",
              "     Parch            Ticket     Fare Cabin Embarked  \n",
              "0        0         A/5 21171   7.2500   NaN        S  \n",
              "1        0          PC 17599  71.2833   C85        C  \n",
              "2        0  STON/O2. 3101282   7.9250   NaN        S  \n",
              "3        0            113803  53.1000  C123        S  \n",
              "4        0            373450   8.0500   NaN        S  \n",
              "..     ...               ...      ...   ...      ...  \n",
              "886      0            211536  13.0000   NaN        S  \n",
              "887      0            112053  30.0000   B42        S  \n",
              "888      2        W./C. 6607  23.4500   NaN        S  \n",
              "889      0            111369  30.0000  C148        C  \n",
              "890      0            370376   7.7500   NaN        Q  \n",
              "\n",
              "[891 rows x 12 columns]"
            ],
            "text/html": [
              "\n",
              "  <div id=\"df-65abbe56-9988-4e1c-8de4-42b76ba375ab\">\n",
              "    <div class=\"colab-df-container\">\n",
              "      <div>\n",
              "<style scoped>\n",
              "    .dataframe tbody tr th:only-of-type {\n",
              "        vertical-align: middle;\n",
              "    }\n",
              "\n",
              "    .dataframe tbody tr th {\n",
              "        vertical-align: top;\n",
              "    }\n",
              "\n",
              "    .dataframe thead th {\n",
              "        text-align: right;\n",
              "    }\n",
              "</style>\n",
              "<table border=\"1\" class=\"dataframe\">\n",
              "  <thead>\n",
              "    <tr style=\"text-align: right;\">\n",
              "      <th></th>\n",
              "      <th>PassengerId</th>\n",
              "      <th>Survived</th>\n",
              "      <th>Pclass</th>\n",
              "      <th>Name</th>\n",
              "      <th>Sex</th>\n",
              "      <th>Age</th>\n",
              "      <th>SibSp</th>\n",
              "      <th>Parch</th>\n",
              "      <th>Ticket</th>\n",
              "      <th>Fare</th>\n",
              "      <th>Cabin</th>\n",
              "      <th>Embarked</th>\n",
              "    </tr>\n",
              "  </thead>\n",
              "  <tbody>\n",
              "    <tr>\n",
              "      <th>0</th>\n",
              "      <td>1</td>\n",
              "      <td>0</td>\n",
              "      <td>3</td>\n",
              "      <td>Braund, Mr. Owen Harris</td>\n",
              "      <td>male</td>\n",
              "      <td>22.0</td>\n",
              "      <td>1</td>\n",
              "      <td>0</td>\n",
              "      <td>A/5 21171</td>\n",
              "      <td>7.2500</td>\n",
              "      <td>NaN</td>\n",
              "      <td>S</td>\n",
              "    </tr>\n",
              "    <tr>\n",
              "      <th>1</th>\n",
              "      <td>2</td>\n",
              "      <td>1</td>\n",
              "      <td>1</td>\n",
              "      <td>Cumings, Mrs. John Bradley (Florence Briggs Thayer)</td>\n",
              "      <td>female</td>\n",
              "      <td>38.0</td>\n",
              "      <td>1</td>\n",
              "      <td>0</td>\n",
              "      <td>PC 17599</td>\n",
              "      <td>71.2833</td>\n",
              "      <td>C85</td>\n",
              "      <td>C</td>\n",
              "    </tr>\n",
              "    <tr>\n",
              "      <th>2</th>\n",
              "      <td>3</td>\n",
              "      <td>1</td>\n",
              "      <td>3</td>\n",
              "      <td>Heikkinen, Miss. Laina</td>\n",
              "      <td>female</td>\n",
              "      <td>26.0</td>\n",
              "      <td>0</td>\n",
              "      <td>0</td>\n",
              "      <td>STON/O2. 3101282</td>\n",
              "      <td>7.9250</td>\n",
              "      <td>NaN</td>\n",
              "      <td>S</td>\n",
              "    </tr>\n",
              "    <tr>\n",
              "      <th>3</th>\n",
              "      <td>4</td>\n",
              "      <td>1</td>\n",
              "      <td>1</td>\n",
              "      <td>Futrelle, Mrs. Jacques Heath (Lily May Peel)</td>\n",
              "      <td>female</td>\n",
              "      <td>35.0</td>\n",
              "      <td>1</td>\n",
              "      <td>0</td>\n",
              "      <td>113803</td>\n",
              "      <td>53.1000</td>\n",
              "      <td>C123</td>\n",
              "      <td>S</td>\n",
              "    </tr>\n",
              "    <tr>\n",
              "      <th>4</th>\n",
              "      <td>5</td>\n",
              "      <td>0</td>\n",
              "      <td>3</td>\n",
              "      <td>Allen, Mr. William Henry</td>\n",
              "      <td>male</td>\n",
              "      <td>35.0</td>\n",
              "      <td>0</td>\n",
              "      <td>0</td>\n",
              "      <td>373450</td>\n",
              "      <td>8.0500</td>\n",
              "      <td>NaN</td>\n",
              "      <td>S</td>\n",
              "    </tr>\n",
              "    <tr>\n",
              "      <th>...</th>\n",
              "      <td>...</td>\n",
              "      <td>...</td>\n",
              "      <td>...</td>\n",
              "      <td>...</td>\n",
              "      <td>...</td>\n",
              "      <td>...</td>\n",
              "      <td>...</td>\n",
              "      <td>...</td>\n",
              "      <td>...</td>\n",
              "      <td>...</td>\n",
              "      <td>...</td>\n",
              "      <td>...</td>\n",
              "    </tr>\n",
              "    <tr>\n",
              "      <th>886</th>\n",
              "      <td>887</td>\n",
              "      <td>0</td>\n",
              "      <td>2</td>\n",
              "      <td>Montvila, Rev. Juozas</td>\n",
              "      <td>male</td>\n",
              "      <td>27.0</td>\n",
              "      <td>0</td>\n",
              "      <td>0</td>\n",
              "      <td>211536</td>\n",
              "      <td>13.0000</td>\n",
              "      <td>NaN</td>\n",
              "      <td>S</td>\n",
              "    </tr>\n",
              "    <tr>\n",
              "      <th>887</th>\n",
              "      <td>888</td>\n",
              "      <td>1</td>\n",
              "      <td>1</td>\n",
              "      <td>Graham, Miss. Margaret Edith</td>\n",
              "      <td>female</td>\n",
              "      <td>19.0</td>\n",
              "      <td>0</td>\n",
              "      <td>0</td>\n",
              "      <td>112053</td>\n",
              "      <td>30.0000</td>\n",
              "      <td>B42</td>\n",
              "      <td>S</td>\n",
              "    </tr>\n",
              "    <tr>\n",
              "      <th>888</th>\n",
              "      <td>889</td>\n",
              "      <td>0</td>\n",
              "      <td>3</td>\n",
              "      <td>Johnston, Miss. Catherine Helen \"Carrie\"</td>\n",
              "      <td>female</td>\n",
              "      <td>NaN</td>\n",
              "      <td>1</td>\n",
              "      <td>2</td>\n",
              "      <td>W./C. 6607</td>\n",
              "      <td>23.4500</td>\n",
              "      <td>NaN</td>\n",
              "      <td>S</td>\n",
              "    </tr>\n",
              "    <tr>\n",
              "      <th>889</th>\n",
              "      <td>890</td>\n",
              "      <td>1</td>\n",
              "      <td>1</td>\n",
              "      <td>Behr, Mr. Karl Howell</td>\n",
              "      <td>male</td>\n",
              "      <td>26.0</td>\n",
              "      <td>0</td>\n",
              "      <td>0</td>\n",
              "      <td>111369</td>\n",
              "      <td>30.0000</td>\n",
              "      <td>C148</td>\n",
              "      <td>C</td>\n",
              "    </tr>\n",
              "    <tr>\n",
              "      <th>890</th>\n",
              "      <td>891</td>\n",
              "      <td>0</td>\n",
              "      <td>3</td>\n",
              "      <td>Dooley, Mr. Patrick</td>\n",
              "      <td>male</td>\n",
              "      <td>32.0</td>\n",
              "      <td>0</td>\n",
              "      <td>0</td>\n",
              "      <td>370376</td>\n",
              "      <td>7.7500</td>\n",
              "      <td>NaN</td>\n",
              "      <td>Q</td>\n",
              "    </tr>\n",
              "  </tbody>\n",
              "</table>\n",
              "<p>891 rows × 12 columns</p>\n",
              "</div>\n",
              "      <button class=\"colab-df-convert\" onclick=\"convertToInteractive('df-65abbe56-9988-4e1c-8de4-42b76ba375ab')\"\n",
              "              title=\"Convert this dataframe to an interactive table.\"\n",
              "              style=\"display:none;\">\n",
              "        \n",
              "  <svg xmlns=\"http://www.w3.org/2000/svg\" height=\"24px\"viewBox=\"0 0 24 24\"\n",
              "       width=\"24px\">\n",
              "    <path d=\"M0 0h24v24H0V0z\" fill=\"none\"/>\n",
              "    <path d=\"M18.56 5.44l.94 2.06.94-2.06 2.06-.94-2.06-.94-.94-2.06-.94 2.06-2.06.94zm-11 1L8.5 8.5l.94-2.06 2.06-.94-2.06-.94L8.5 2.5l-.94 2.06-2.06.94zm10 10l.94 2.06.94-2.06 2.06-.94-2.06-.94-.94-2.06-.94 2.06-2.06.94z\"/><path d=\"M17.41 7.96l-1.37-1.37c-.4-.4-.92-.59-1.43-.59-.52 0-1.04.2-1.43.59L10.3 9.45l-7.72 7.72c-.78.78-.78 2.05 0 2.83L4 21.41c.39.39.9.59 1.41.59.51 0 1.02-.2 1.41-.59l7.78-7.78 2.81-2.81c.8-.78.8-2.07 0-2.86zM5.41 20L4 18.59l7.72-7.72 1.47 1.35L5.41 20z\"/>\n",
              "  </svg>\n",
              "      </button>\n",
              "      \n",
              "  <style>\n",
              "    .colab-df-container {\n",
              "      display:flex;\n",
              "      flex-wrap:wrap;\n",
              "      gap: 12px;\n",
              "    }\n",
              "\n",
              "    .colab-df-convert {\n",
              "      background-color: #E8F0FE;\n",
              "      border: none;\n",
              "      border-radius: 50%;\n",
              "      cursor: pointer;\n",
              "      display: none;\n",
              "      fill: #1967D2;\n",
              "      height: 32px;\n",
              "      padding: 0 0 0 0;\n",
              "      width: 32px;\n",
              "    }\n",
              "\n",
              "    .colab-df-convert:hover {\n",
              "      background-color: #E2EBFA;\n",
              "      box-shadow: 0px 1px 2px rgba(60, 64, 67, 0.3), 0px 1px 3px 1px rgba(60, 64, 67, 0.15);\n",
              "      fill: #174EA6;\n",
              "    }\n",
              "\n",
              "    [theme=dark] .colab-df-convert {\n",
              "      background-color: #3B4455;\n",
              "      fill: #D2E3FC;\n",
              "    }\n",
              "\n",
              "    [theme=dark] .colab-df-convert:hover {\n",
              "      background-color: #434B5C;\n",
              "      box-shadow: 0px 1px 3px 1px rgba(0, 0, 0, 0.15);\n",
              "      filter: drop-shadow(0px 1px 2px rgba(0, 0, 0, 0.3));\n",
              "      fill: #FFFFFF;\n",
              "    }\n",
              "  </style>\n",
              "\n",
              "      <script>\n",
              "        const buttonEl =\n",
              "          document.querySelector('#df-65abbe56-9988-4e1c-8de4-42b76ba375ab button.colab-df-convert');\n",
              "        buttonEl.style.display =\n",
              "          google.colab.kernel.accessAllowed ? 'block' : 'none';\n",
              "\n",
              "        async function convertToInteractive(key) {\n",
              "          const element = document.querySelector('#df-65abbe56-9988-4e1c-8de4-42b76ba375ab');\n",
              "          const dataTable =\n",
              "            await google.colab.kernel.invokeFunction('convertToInteractive',\n",
              "                                                     [key], {});\n",
              "          if (!dataTable) return;\n",
              "\n",
              "          const docLinkHtml = 'Like what you see? Visit the ' +\n",
              "            '<a target=\"_blank\" href=https://colab.research.google.com/notebooks/data_table.ipynb>data table notebook</a>'\n",
              "            + ' to learn more about interactive tables.';\n",
              "          element.innerHTML = '';\n",
              "          dataTable['output_type'] = 'display_data';\n",
              "          await google.colab.output.renderOutput(dataTable, element);\n",
              "          const docLink = document.createElement('div');\n",
              "          docLink.innerHTML = docLinkHtml;\n",
              "          element.appendChild(docLink);\n",
              "        }\n",
              "      </script>\n",
              "    </div>\n",
              "  </div>\n",
              "  "
            ]
          },
          "metadata": {},
          "execution_count": 3
        }
      ]
    },
    {
      "cell_type": "markdown",
      "source": [
        "For random forests we dont have to create dummy variables, instead, we can just convert those fields to categorical variables, this is, pandas makes a list with all the unique valuees in the column and then replace each value with a number."
      ],
      "metadata": {
        "id": "HRSGtBdZr7k-"
      }
    },
    {
      "cell_type": "code",
      "source": [
        "def proc_data(df):\n",
        "    df['Fare'] = df.Fare.fillna(0)\n",
        "    df.fillna(modes, inplace=True)\n",
        "    df['LogFare'] = np.log1p(df['Fare'])\n",
        "    df['Embarked'] = pd.Categorical(df.Embarked)\n",
        "    df['Sex'] = pd.Categorical(df.Sex)\n",
        "\n",
        "proc_data(df)\n",
        "proc_data(tst_df)"
      ],
      "metadata": {
        "id": "AfLsd5DGce19"
      },
      "execution_count": null,
      "outputs": []
    },
    {
      "cell_type": "markdown",
      "source": [
        "miaking a list with the continous, categorical and dependent variables:"
      ],
      "metadata": {
        "id": "9aNbVYBNsivp"
      }
    },
    {
      "cell_type": "code",
      "source": [
        "cats=[\"Sex\",\"Embarked\"]\n",
        "conts=['Age', 'SibSp', 'Parch', 'LogFare',\"Pclass\"]\n",
        "dep=\"Survived\""
      ],
      "metadata": {
        "id": "2lCVj7JvdOTB"
      },
      "execution_count": null,
      "outputs": []
    },
    {
      "cell_type": "code",
      "source": [
        "df.Sex.head()"
      ],
      "metadata": {
        "colab": {
          "base_uri": "https://localhost:8080/"
        },
        "id": "xYwfTReYdlpf",
        "outputId": "40ed1d4f-3dfc-44bf-c036-ecd30c863f0f"
      },
      "execution_count": null,
      "outputs": [
        {
          "output_type": "execute_result",
          "data": {
            "text/plain": [
              "0      male\n",
              "1    female\n",
              "2    female\n",
              "3    female\n",
              "4      male\n",
              "Name: Sex, dtype: category\n",
              "Categories (2, object): ['female', 'male']"
            ]
          },
          "metadata": {},
          "execution_count": 6
        }
      ]
    },
    {
      "cell_type": "code",
      "source": [
        "df.Sex.cat.codes.head()"
      ],
      "metadata": {
        "colab": {
          "base_uri": "https://localhost:8080/"
        },
        "id": "qNiA3cyOd1eO",
        "outputId": "5ada3301-ba14-40c6-ae4a-3f7078f1015b"
      },
      "execution_count": null,
      "outputs": [
        {
          "output_type": "execute_result",
          "data": {
            "text/plain": [
              "0    1\n",
              "1    0\n",
              "2    0\n",
              "3    0\n",
              "4    1\n",
              "dtype: int8"
            ]
          },
          "metadata": {},
          "execution_count": 7
        }
      ]
    },
    {
      "cell_type": "markdown",
      "source": [
        "A binary split is an object where we can split tour columns into two groups according to a specific threshold of some column, this is, if the value of the row is above or below this threshold.\n",
        "\n",
        "for exmaple, for the variable sex (that is `0` and `1`) we can get a binary split by setting the threshold in `0.5`, we can see that in the following graph."
      ],
      "metadata": {
        "id": "HKXZS9-utu8S"
      }
    },
    {
      "cell_type": "code",
      "source": [
        "import seaborn as sns\n",
        "\n",
        "fig,axs = plt.subplots(1,2, figsize=(11,5),dpi=130)\n",
        "sns.barplot(data=df, y=dep, x=\"Sex\", ax=axs[0]).set(title=\"Survival rate\")\n",
        "sns.countplot(data=df, x=\"Sex\", ax=axs[1]).set(title=\"Histogram\");"
      ],
      "metadata": {
        "colab": {
          "base_uri": "https://localhost:8080/",
          "height": 624
        },
        "id": "oLA0Ez7Fd4wo",
        "outputId": "4dc310ac-91a1-411c-d164-177cabd6155f"
      },
      "execution_count": null,
      "outputs": [
        {
          "output_type": "display_data",
          "data": {
            "text/plain": [
              "<Figure size 1430x650 with 2 Axes>"
            ],
            "image/png": "[encoded data removed]"
          },
          "metadata": {
            "image/png": {
              "width": 1199,
              "height": 607
            }
          }
        }
      ]
    },
    {
      "cell_type": "markdown",
      "source": [
        "Using this, we can split our dataset into a training set and a validation set for creating a model that predict if a person survived or no:\n",
        "\n",
        "Note that we are changing the categorical variables (`Sex` and `Embarked`) for his corresponding codes:"
      ],
      "metadata": {
        "id": "H3pCVhrUuZAh"
      }
    },
    {
      "cell_type": "code",
      "source": [
        "from numpy import random\n",
        "from sklearn.model_selection import train_test_split\n",
        "\n",
        "random.seed(42)\n",
        "trn_df,val_df = train_test_split(df, test_size=0.25)\n",
        "trn_df[cats] = trn_df[cats].apply(lambda x: x.cat.codes)                                            # apply codes for the categorical variables\n",
        "val_df[cats] = val_df[cats].apply(lambda x: x.cat.codes)\n"
      ],
      "metadata": {
        "id": "T3dOULHNeDAw"
      },
      "execution_count": null,
      "outputs": []
    },
    {
      "cell_type": "markdown",
      "source": [
        "Now we can crate our independent `x` and dependent `y` variables:"
      ],
      "metadata": {
        "id": "99xo7432vOBc"
      }
    },
    {
      "cell_type": "code",
      "source": [
        "def xs_y(df):\n",
        "    xs = df[cats+conts].copy()                                                                      # create a copy with the dependent (categorical and continous) variables\n",
        "    return xs,df[dep] if dep in df else None                                                        # return both the dependent and independent variables\n",
        "\n",
        "trn_xs,trn_y = xs_y(trn_df)                                                                         # crete the train and validation sets\n",
        "val_xs,val_y = xs_y(val_df)"
      ],
      "metadata": {
        "id": "YyBwepnnewZR"
      },
      "execution_count": null,
      "outputs": []
    },
    {
      "cell_type": "code",
      "source": [
        "preds = val_xs.Sex==0"
      ],
      "metadata": {
        "id": "0zdPgVvQeyZu"
      },
      "execution_count": null,
      "outputs": []
    },
    {
      "cell_type": "code",
      "source": [
        "from sklearn.metrics import mean_absolute_error\n",
        "mean_absolute_error(val_y, preds)"
      ],
      "metadata": {
        "colab": {
          "base_uri": "https://localhost:8080/"
        },
        "id": "meow7ANne1CY",
        "outputId": "b1eafee9-9a0c-48dd-b76d-375877be3db4"
      },
      "execution_count": null,
      "outputs": [
        {
          "output_type": "execute_result",
          "data": {
            "text/plain": [
              "0.21524663677130046"
            ]
          },
          "metadata": {},
          "execution_count": 12
        }
      ]
    },
    {
      "cell_type": "markdown",
      "source": [
        "if we do the same for continous variables. For example, for the variable of `LogFare`:"
      ],
      "metadata": {
        "id": "L_t084jSwmpg"
      }
    },
    {
      "cell_type": "code",
      "source": [
        "df_fare = trn_df[trn_df.LogFare>0]\n",
        "fig,axs = plt.subplots(1,2, figsize=(11,5),dpi=130)\n",
        "sns.boxenplot(data=df_fare, x=dep, y=\"LogFare\", ax=axs[0])\n",
        "sns.kdeplot(data=df_fare, x=\"LogFare\", ax=axs[1]);"
      ],
      "metadata": {
        "colab": {
          "base_uri": "https://localhost:8080/",
          "height": 597
        },
        "id": "zPnmsPx1e3He",
        "outputId": "8f3f942e-3246-47a2-8f83-e3f817ccb7a1"
      },
      "execution_count": null,
      "outputs": [
        {
          "output_type": "display_data",
          "data": {
            "text/plain": [
              "<Figure size 1430x650 with 2 Axes>"
            ],
            "image/png": "[encoded data removed]"
          },
          "metadata": {
            "image/png": {
              "width": 1182,
              "height": 580
            }
          }
        }
      ]
    },
    {
      "cell_type": "markdown",
      "source": [
        "Set the treshold and calc the _mse_:"
      ],
      "metadata": {
        "id": "L_fIH-0YwzVQ"
      }
    },
    {
      "cell_type": "code",
      "source": [
        "preds = val_xs.LogFare>3\n",
        "mean_absolute_error(val_y, preds)"
      ],
      "metadata": {
        "id": "EtLO2VWle5f9",
        "colab": {
          "base_uri": "https://localhost:8080/"
        },
        "outputId": "641d9228-49d0-4fa0-8fc0-5caa53fdb4d7"
      },
      "execution_count": null,
      "outputs": [
        {
          "output_type": "execute_result",
          "data": {
            "text/plain": [
              "0.3094170403587444"
            ]
          },
          "metadata": {},
          "execution_count": 14
        }
      ]
    },
    {
      "cell_type": "markdown",
      "source": [
        "For other side, we could create a function that tells us how good our model is, we'll create a `score` function  to do this, this function will calculate the _impurity_, that is, how much the binary split creates two groups where the rows in a group are each similar to each other, or dissmilar.\n",
        "\n",
        "We can maesure the similarity of rows inside a group by taking the standard deviation of the dependent variable"
      ],
      "metadata": {
        "id": "O3-6Ej11xEm-"
      }
    },
    {
      "cell_type": "code",
      "source": [
        "def _side_score(side, y):\n",
        "    tot = side.sum()\n",
        "    if tot<=1: return 0\n",
        "    return y[side].std()*tot"
      ],
      "metadata": {
        "id": "8hA2jiqbfEcI"
      },
      "execution_count": null,
      "outputs": []
    },
    {
      "cell_type": "code",
      "source": [
        "def score(col, y, split):\n",
        "    lhs = col<=split\n",
        "    return (_side_score(lhs,y) + _side_score(~lhs,y))/len(y) # here the ~ symbol means not"
      ],
      "metadata": {
        "id": "mE-sBq0BfOKL"
      },
      "execution_count": null,
      "outputs": []
    },
    {
      "cell_type": "code",
      "source": [
        "score(trn_xs[\"Sex\"], trn_y, 0.5)"
      ],
      "metadata": {
        "colab": {
          "base_uri": "https://localhost:8080/"
        },
        "id": "9TAAFPl1fVIc",
        "outputId": "fa95831f-6b5d-429e-edea-222e78656323"
      },
      "execution_count": null,
      "outputs": [
        {
          "output_type": "execute_result",
          "data": {
            "text/plain": [
              "0.40787530982063946"
            ]
          },
          "metadata": {},
          "execution_count": 17
        }
      ]
    },
    {
      "cell_type": "code",
      "source": [
        "score(trn_xs[\"LogFare\"], trn_y, 2.7)"
      ],
      "metadata": {
        "colab": {
          "base_uri": "https://localhost:8080/"
        },
        "id": "OuZoDHd0fZN1",
        "outputId": "9da69ae3-da38-4adf-fa85-8799c18cdee8"
      },
      "execution_count": null,
      "outputs": [
        {
          "output_type": "execute_result",
          "data": {
            "text/plain": [
              "0.47180873952099694"
            ]
          },
          "metadata": {},
          "execution_count": 18
        }
      ]
    },
    {
      "cell_type": "code",
      "source": [
        "def iscore(nm, split):\n",
        "    col = trn_xs[nm]\n",
        "    return score(col, trn_y, split)\n",
        "\n",
        "from ipywidgets import interact\n",
        "interact(nm=conts, split=15.5)(iscore);"
      ],
      "metadata": {
        "colab": {
          "base_uri": "https://localhost:8080/",
          "height": 98,
          "referenced_widgets": [
            "ded0bebd13f847d893967ed89fe79f0b",
            "41b864b8602040259eae9e2854c86ba6",
            "51500db2deb54d9e97a076bdb0122f92",
            "a216bb1a4d6a4362a3edeb7ddc67cc23",
            "1636bc03dacd4cbaba209ab41ed6f7c9",
            "6ec486a8610d4449ad185c0dc2b9779c",
            "8aea5e5753bb4720bd48840712635fc0",
            "4d030287bf3c4369872e81a1efd44c14",
            "c73765d6276345fcbff163e610bd5648",
            "0f3fe0c632a9421ea4bb19d24c9975de"
          ]
        },
        "id": "vezfgZB9fdOY",
        "outputId": "c78f8a6b-79b2-4c1c-d421-cae51f521ac6"
      },
      "execution_count": null,
      "outputs": [
        {
          "output_type": "display_data",
          "data": {
            "text/plain": [
              "interactive(children=(Dropdown(description='nm', options=('Age', 'SibSp', 'Parch', 'LogFare', 'Pclass'), value…"
            ],
            "application/vnd.jupyter.widget-view+json": {
              "version_major": 2,
              "version_minor": 0,
              "model_id": "ded0bebd13f847d893967ed89fe79f0b"
            }
          },
          "metadata": {}
        }
      ]
    },
    {
      "cell_type": "code",
      "source": [
        "nm = \"Age\"\n",
        "col = trn_xs[nm]\n",
        "unq = col.unique()\n",
        "unq.sort()\n",
        "unq"
      ],
      "metadata": {
        "colab": {
          "base_uri": "https://localhost:8080/"
        },
        "id": "Wsquj_LLffTm",
        "outputId": "281b3fe6-a85b-45c9-ff1a-1f96ec136a0a"
      },
      "execution_count": null,
      "outputs": [
        {
          "output_type": "execute_result",
          "data": {
            "text/plain": [
              "array([ 0.42,  0.67,  0.75,  0.83,  0.92,  1.  ,  2.  ,  3.  ,  4.  ,  5.  ,  6.  ,  7.  ,  8.  ,  9.  , 10.  , 11.  , 12.  ,\n",
              "       13.  , 14.  , 14.5 , 15.  , 16.  , 17.  , 18.  , 19.  , 20.  , 21.  , 22.  , 23.  , 24.  , 24.5 , 25.  , 26.  , 27.  ,\n",
              "       28.  , 28.5 , 29.  , 30.  , 31.  , 32.  , 32.5 , 33.  , 34.  , 34.5 , 35.  , 36.  , 36.5 , 37.  , 38.  , 39.  , 40.  ,\n",
              "       40.5 , 41.  , 42.  , 43.  , 44.  , 45.  , 45.5 , 46.  , 47.  , 48.  , 49.  , 50.  , 51.  , 52.  , 53.  , 54.  , 55.  ,\n",
              "       55.5 , 56.  , 57.  , 58.  , 59.  , 60.  , 61.  , 62.  , 64.  , 65.  , 70.  , 70.5 , 74.  , 80.  ])"
            ]
          },
          "metadata": {},
          "execution_count": 20
        }
      ]
    },
    {
      "cell_type": "code",
      "source": [
        "scores = np.array([score(col, trn_y, o) for o in unq if not np.isnan(o)])\n",
        "unq[scores.argmin()]"
      ],
      "metadata": {
        "colab": {
          "base_uri": "https://localhost:8080/"
        },
        "id": "za73GMHhfvYM",
        "outputId": "280f4ebb-415d-4c20-9949-15eb1e27d57d"
      },
      "execution_count": null,
      "outputs": [
        {
          "output_type": "execute_result",
          "data": {
            "text/plain": [
              "6.0"
            ]
          },
          "metadata": {},
          "execution_count": 21
        }
      ]
    },
    {
      "cell_type": "code",
      "source": [
        "def min_col(df, nm):\n",
        "    col,y = df[nm],df[dep]\n",
        "    unq = col.dropna().unique()\n",
        "    scores = np.array([score(col, y, o) for o in unq if not np.isnan(o)])\n",
        "    idx = scores.argmin()\n",
        "    return unq[idx],scores[idx]\n",
        "\n",
        "min_col(trn_df, \"Age\")"
      ],
      "metadata": {
        "colab": {
          "base_uri": "https://localhost:8080/"
        },
        "id": "TFX2TThff0oW",
        "outputId": "0ea0d6c6-1f00-474f-af75-3daa428de818"
      },
      "execution_count": null,
      "outputs": [
        {
          "output_type": "execute_result",
          "data": {
            "text/plain": [
              "(6.0, 0.478316717508991)"
            ]
          },
          "metadata": {},
          "execution_count": 22
        }
      ]
    },
    {
      "cell_type": "code",
      "source": [
        "cols = cats+conts\n",
        "{o:min_col(trn_df, o) for o in cols}"
      ],
      "metadata": {
        "colab": {
          "base_uri": "https://localhost:8080/"
        },
        "id": "bPgBlnlTf8h8",
        "outputId": "fc5efd74-718e-4169-9e43-140c49af51a5"
      },
      "execution_count": null,
      "outputs": [
        {
          "output_type": "execute_result",
          "data": {
            "text/plain": [
              "{'Sex': (0, 0.40787530982063946),\n",
              " 'Embarked': (0, 0.47883342573147836),\n",
              " 'Age': (6.0, 0.478316717508991),\n",
              " 'SibSp': (4, 0.4783740258817434),\n",
              " 'Parch': (0, 0.4805296527841601),\n",
              " 'LogFare': (2.4390808375825834, 0.4620823937736597),\n",
              " 'Pclass': (2, 0.46048261885806596)}"
            ]
          },
          "metadata": {},
          "execution_count": 23
        }
      ]
    },
    {
      "cell_type": "markdown",
      "source": [
        "# creating a decission tree"
      ],
      "metadata": {
        "id": "wmtkQAUbgePh"
      }
    },
    {
      "cell_type": "code",
      "source": [
        "cols.remove(\"Sex\")\n",
        "ismale = trn_df.Sex==1\n",
        "males,females = trn_df[ismale],trn_df[~ismale]"
      ],
      "metadata": {
        "id": "SCw7m0DZgieR"
      },
      "execution_count": null,
      "outputs": []
    },
    {
      "cell_type": "code",
      "source": [
        "{o:min_col(males, o) for o in cols}"
      ],
      "metadata": {
        "colab": {
          "base_uri": "https://localhost:8080/"
        },
        "id": "fcQXIesxyhdQ",
        "outputId": "311ad4ec-25eb-4a71-83ac-d03e7eccde20"
      },
      "execution_count": null,
      "outputs": [
        {
          "output_type": "execute_result",
          "data": {
            "text/plain": [
              "{'Embarked': (0, 0.3875581870410906),\n",
              " 'Age': (6.0, 0.3739828371010595),\n",
              " 'SibSp': (4, 0.3875864227586273),\n",
              " 'Parch': (0, 0.3874704821461959),\n",
              " 'LogFare': (2.803360380906535, 0.3804856231758151),\n",
              " 'Pclass': (1, 0.38155442004360934)}"
            ]
          },
          "metadata": {},
          "execution_count": 25
        }
      ]
    },
    {
      "cell_type": "code",
      "source": [
        "{o:min_col(females, o) for o in cols}"
      ],
      "metadata": {
        "colab": {
          "base_uri": "https://localhost:8080/"
        },
        "id": "MhTY0axjyo6l",
        "outputId": "db26ca18-94e5-48b3-fc10-a6084899bab6"
      },
      "execution_count": null,
      "outputs": [
        {
          "output_type": "execute_result",
          "data": {
            "text/plain": [
              "{'Embarked': (0, 0.4295252982857327),\n",
              " 'Age': (50.0, 0.4225927658431649),\n",
              " 'SibSp': (4, 0.42319212059713535),\n",
              " 'Parch': (3, 0.4193314500446158),\n",
              " 'LogFare': (4.256321678298823, 0.41350598332911376),\n",
              " 'Pclass': (2, 0.3335388911567601)}"
            ]
          },
          "metadata": {},
          "execution_count": 26
        }
      ]
    },
    {
      "cell_type": "code",
      "source": [
        "from sklearn.tree import DecisionTreeClassifier, export_graphviz\n",
        "\n",
        "m = DecisionTreeClassifier(max_leaf_nodes=4).fit(trn_xs, trn_y);"
      ],
      "metadata": {
        "id": "bHjHLivIyuVM"
      },
      "execution_count": null,
      "outputs": []
    },
    {
      "cell_type": "code",
      "source": [
        "import graphviz\n",
        "\n",
        "def draw_tree(t, df, size=10, ratio=0.6, precision=2, **kwargs):\n",
        "    s=export_graphviz(t, out_file=None, feature_names=df.columns, filled=True, rounded=True,\n",
        "                      special_characters=True, rotate=False, precision=precision, **kwargs)\n",
        "    return graphviz.Source(re.sub('Tree {', f'Tree {{ size={size}; ratio={ratio}', s))"
      ],
      "metadata": {
        "id": "e_HjaYx0y1Ea"
      },
      "execution_count": null,
      "outputs": []
    },
    {
      "cell_type": "code",
      "source": [
        "draw_tree(m, trn_xs, size=10)"
      ],
      "metadata": {
        "colab": {
          "base_uri": "https://localhost:8080/",
          "height": 431
        },
        "id": "Nonsozody96K",
        "outputId": "6abf954c-fb29-4f3a-c844-d7ccc300fcbc"
      },
      "execution_count": null,
      "outputs": [
        {
          "output_type": "execute_result",
          "data": {
            "image/svg+xml": "<?xml version=\"1.0\" encoding=\"UTF-8\" standalone=\"no\"?>\n<!DOCTYPE svg PUBLIC \"-//W3C//DTD SVG 1.1//EN\"\n \"http://www.w3.org/Graphics/SVG/1.1/DTD/svg11.dtd\">\n<!-- Generated by graphviz version 2.43.0 (0)\n -->\n<!-- Title: Tree Pages: 1 -->\n<svg width=\"507pt\" height=\"307pt\"\n viewBox=\"0.00 0.00 506.50 306.80\" xmlns=\"http://www.w3.org/2000/svg\" xmlns:xlink=\"http://www.w3.org/1999/xlink\">\n<g id=\"graph0\" class=\"graph\" transform=\"scale(1 1) rotate(0) translate(4 302.8)\">\n<title>Tree</title>\n<polygon fill=\"white\" stroke=\"transparent\" points=\"-4,4 -4,-302.8 502.5,-302.8 502.5,4 -4,4\"/>\n<!-- 0 -->\n<g id=\"node1\" class=\"node\">\n<title>0</title>\n<path fill=\"#f5ceb2\" stroke=\"black\" d=\"M297.5,-294C297.5,-294 196.5,-294 196.5,-294 190.5,-294 184.5,-288 184.5,-282 184.5,-282 184.5,-238 184.5,-238 184.5,-232 190.5,-226 196.5,-226 196.5,-226 297.5,-226 297.5,-226 303.5,-226 309.5,-232 309.5,-238 309.5,-238 309.5,-282 309.5,-282 309.5,-288 303.5,-294 297.5,-294\"/>\n<text text-anchor=\"start\" x=\"218\" y=\"-278.8\" font-family=\"Helvetica,sans-Serif\" font-size=\"14.00\">Sex ≤ 0.5</text>\n<text text-anchor=\"start\" x=\"215\" y=\"-263.8\" font-family=\"Helvetica,sans-Serif\" font-size=\"14.00\">gini = 0.47</text>\n<text text-anchor=\"start\" x=\"202\" y=\"-248.8\" font-family=\"Helvetica,sans-Serif\" font-size=\"14.00\">samples = 668</text>\n<text text-anchor=\"start\" x=\"192.5\" y=\"-233.8\" font-family=\"Helvetica,sans-Serif\" font-size=\"14.00\">value = [415, 253]</text>\n</g>\n<!-- 1 -->\n<g id=\"node2\" class=\"node\">\n<title>1</title>\n<path fill=\"#7ebfee\" stroke=\"black\" d=\"M226.5,-175C226.5,-175 133.5,-175 133.5,-175 127.5,-175 121.5,-169 121.5,-163 121.5,-163 121.5,-119 121.5,-119 121.5,-113 127.5,-107 133.5,-107 133.5,-107 226.5,-107 226.5,-107 232.5,-107 238.5,-113 238.5,-119 238.5,-119 238.5,-163 238.5,-163 238.5,-169 232.5,-175 226.5,-175\"/>\n<text text-anchor=\"start\" x=\"143\" y=\"-159.8\" font-family=\"Helvetica,sans-Serif\" font-size=\"14.00\">Pclass ≤ 2.5</text>\n<text text-anchor=\"start\" x=\"148\" y=\"-144.8\" font-family=\"Helvetica,sans-Serif\" font-size=\"14.00\">gini = 0.38</text>\n<text text-anchor=\"start\" x=\"135\" y=\"-129.8\" font-family=\"Helvetica,sans-Serif\" font-size=\"14.00\">samples = 229</text>\n<text text-anchor=\"start\" x=\"129.5\" y=\"-114.8\" font-family=\"Helvetica,sans-Serif\" font-size=\"14.00\">value = [59, 170]</text>\n</g>\n<!-- 0&#45;&gt;1 -->\n<g id=\"edge1\" class=\"edge\">\n<title>0&#45;&gt;1</title>\n<path fill=\"none\" stroke=\"black\" d=\"M227.98,-225.79C220.55,-212.82 211.95,-197.8 204.1,-184.08\"/>\n<polygon fill=\"black\" stroke=\"black\" points=\"207.07,-182.24 199.07,-175.3 201,-185.71 207.07,-182.24\"/>\n<text text-anchor=\"middle\" x=\"192.51\" y=\"-195.72\" font-family=\"Helvetica,sans-Serif\" font-size=\"14.00\">True</text>\n</g>\n<!-- 2 -->\n<g id=\"node5\" class=\"node\">\n<title>2</title>\n<path fill=\"#eb9e67\" stroke=\"black\" d=\"M361.5,-175C361.5,-175 268.5,-175 268.5,-175 262.5,-175 256.5,-169 256.5,-163 256.5,-163 256.5,-119 256.5,-119 256.5,-113 262.5,-107 268.5,-107 268.5,-107 361.5,-107 361.5,-107 367.5,-107 373.5,-113 373.5,-119 373.5,-119 373.5,-163 373.5,-163 373.5,-169 367.5,-175 361.5,-175\"/>\n<text text-anchor=\"start\" x=\"286\" y=\"-159.8\" font-family=\"Helvetica,sans-Serif\" font-size=\"14.00\">Age ≤ 6.5</text>\n<text text-anchor=\"start\" x=\"283\" y=\"-144.8\" font-family=\"Helvetica,sans-Serif\" font-size=\"14.00\">gini = 0.31</text>\n<text text-anchor=\"start\" x=\"270\" y=\"-129.8\" font-family=\"Helvetica,sans-Serif\" font-size=\"14.00\">samples = 439</text>\n<text text-anchor=\"start\" x=\"264.5\" y=\"-114.8\" font-family=\"Helvetica,sans-Serif\" font-size=\"14.00\">value = [356, 83]</text>\n</g>\n<!-- 0&#45;&gt;2 -->\n<g id=\"edge4\" class=\"edge\">\n<title>0&#45;&gt;2</title>\n<path fill=\"none\" stroke=\"black\" d=\"M266.3,-225.79C273.84,-212.82 282.57,-197.8 290.54,-184.08\"/>\n<polygon fill=\"black\" stroke=\"black\" points=\"293.65,-185.7 295.65,-175.3 287.6,-182.18 293.65,-185.7\"/>\n<text text-anchor=\"middle\" x=\"302.05\" y=\"-195.76\" font-family=\"Helvetica,sans-Serif\" font-size=\"14.00\">False</text>\n</g>\n<!-- 3 -->\n<g id=\"node3\" class=\"node\">\n<title>3</title>\n<path fill=\"#40a0e6\" stroke=\"black\" d=\"M98,-56.5C98,-56.5 12,-56.5 12,-56.5 6,-56.5 0,-50.5 0,-44.5 0,-44.5 0,-15.5 0,-15.5 0,-9.5 6,-3.5 12,-3.5 12,-3.5 98,-3.5 98,-3.5 104,-3.5 110,-9.5 110,-15.5 110,-15.5 110,-44.5 110,-44.5 110,-50.5 104,-56.5 98,-56.5\"/>\n<text text-anchor=\"start\" x=\"23\" y=\"-41.3\" font-family=\"Helvetica,sans-Serif\" font-size=\"14.00\">gini = 0.06</text>\n<text text-anchor=\"start\" x=\"10\" y=\"-26.3\" font-family=\"Helvetica,sans-Serif\" font-size=\"14.00\">samples = 120</text>\n<text text-anchor=\"start\" x=\"8\" y=\"-11.3\" font-family=\"Helvetica,sans-Serif\" font-size=\"14.00\">value = [4, 116]</text>\n</g>\n<!-- 1&#45;&gt;3 -->\n<g id=\"edge2\" class=\"edge\">\n<title>1&#45;&gt;3</title>\n<path fill=\"none\" stroke=\"black\" d=\"M141.82,-106.7C126.16,-93.06 108.1,-77.31 92.52,-63.72\"/>\n<polygon fill=\"black\" stroke=\"black\" points=\"94.46,-60.77 84.62,-56.83 89.86,-66.04 94.46,-60.77\"/>\n</g>\n<!-- 4 -->\n<g id=\"node4\" class=\"node\">\n<title>4</title>\n<path fill=\"#fffdfb\" stroke=\"black\" d=\"M226,-56.5C226,-56.5 140,-56.5 140,-56.5 134,-56.5 128,-50.5 128,-44.5 128,-44.5 128,-15.5 128,-15.5 128,-9.5 134,-3.5 140,-3.5 140,-3.5 226,-3.5 226,-3.5 232,-3.5 238,-9.5 238,-15.5 238,-15.5 238,-44.5 238,-44.5 238,-50.5 232,-56.5 226,-56.5\"/>\n<text text-anchor=\"start\" x=\"155\" y=\"-41.3\" font-family=\"Helvetica,sans-Serif\" font-size=\"14.00\">gini = 0.5</text>\n<text text-anchor=\"start\" x=\"138\" y=\"-26.3\" font-family=\"Helvetica,sans-Serif\" font-size=\"14.00\">samples = 109</text>\n<text text-anchor=\"start\" x=\"136\" y=\"-11.3\" font-family=\"Helvetica,sans-Serif\" font-size=\"14.00\">value = [55, 54]</text>\n</g>\n<!-- 1&#45;&gt;4 -->\n<g id=\"edge3\" class=\"edge\">\n<title>1&#45;&gt;4</title>\n<path fill=\"none\" stroke=\"black\" d=\"M180.92,-106.7C181.26,-94.18 181.65,-79.89 182.01,-67.13\"/>\n<polygon fill=\"black\" stroke=\"black\" points=\"185.51,-66.92 182.29,-56.83 178.52,-66.73 185.51,-66.92\"/>\n</g>\n<!-- 5 -->\n<g id=\"node6\" class=\"node\">\n<title>5</title>\n<path fill=\"#88c4ef\" stroke=\"black\" d=\"M351,-56.5C351,-56.5 273,-56.5 273,-56.5 267,-56.5 261,-50.5 261,-44.5 261,-44.5 261,-15.5 261,-15.5 261,-9.5 267,-3.5 273,-3.5 273,-3.5 351,-3.5 351,-3.5 357,-3.5 363,-9.5 363,-15.5 363,-15.5 363,-44.5 363,-44.5 363,-50.5 357,-56.5 351,-56.5\"/>\n<text text-anchor=\"start\" x=\"280\" y=\"-41.3\" font-family=\"Helvetica,sans-Serif\" font-size=\"14.00\">gini = 0.41</text>\n<text text-anchor=\"start\" x=\"271\" y=\"-26.3\" font-family=\"Helvetica,sans-Serif\" font-size=\"14.00\">samples = 21</text>\n<text text-anchor=\"start\" x=\"269\" y=\"-11.3\" font-family=\"Helvetica,sans-Serif\" font-size=\"14.00\">value = [6, 15]</text>\n</g>\n<!-- 2&#45;&gt;5 -->\n<g id=\"edge5\" class=\"edge\">\n<title>2&#45;&gt;5</title>\n<path fill=\"none\" stroke=\"black\" d=\"M314.08,-106.7C313.74,-94.18 313.35,-79.89 312.99,-67.13\"/>\n<polygon fill=\"black\" stroke=\"black\" points=\"316.48,-66.73 312.71,-56.83 309.49,-66.92 316.48,-66.73\"/>\n</g>\n<!-- 6 -->\n<g id=\"node7\" class=\"node\">\n<title>6</title>\n<path fill=\"#ea995f\" stroke=\"black\" d=\"M486.5,-56.5C486.5,-56.5 393.5,-56.5 393.5,-56.5 387.5,-56.5 381.5,-50.5 381.5,-44.5 381.5,-44.5 381.5,-15.5 381.5,-15.5 381.5,-9.5 387.5,-3.5 393.5,-3.5 393.5,-3.5 486.5,-3.5 486.5,-3.5 492.5,-3.5 498.5,-9.5 498.5,-15.5 498.5,-15.5 498.5,-44.5 498.5,-44.5 498.5,-50.5 492.5,-56.5 486.5,-56.5\"/>\n<text text-anchor=\"start\" x=\"408\" y=\"-41.3\" font-family=\"Helvetica,sans-Serif\" font-size=\"14.00\">gini = 0.27</text>\n<text text-anchor=\"start\" x=\"395\" y=\"-26.3\" font-family=\"Helvetica,sans-Serif\" font-size=\"14.00\">samples = 418</text>\n<text text-anchor=\"start\" x=\"389.5\" y=\"-11.3\" font-family=\"Helvetica,sans-Serif\" font-size=\"14.00\">value = [350, 68]</text>\n</g>\n<!-- 2&#45;&gt;6 -->\n<g id=\"edge6\" class=\"edge\">\n<title>2&#45;&gt;6</title>\n<path fill=\"none\" stroke=\"black\" d=\"M353.18,-106.7C368.84,-93.06 386.9,-77.31 402.48,-63.72\"/>\n<polygon fill=\"black\" stroke=\"black\" points=\"405.14,-66.04 410.38,-56.83 400.54,-60.77 405.14,-66.04\"/>\n</g>\n</g>\n</svg>\n",
            "text/plain": [
              "<graphviz.sources.Source at 0x7fe563b41f10>"
            ]
          },
          "metadata": {},
          "execution_count": 29
        }
      ]
    },
    {
      "cell_type": "code",
      "source": [
        "mean_absolute_error(val_y, m.predict(val_xs))"
      ],
      "metadata": {
        "colab": {
          "base_uri": "https://localhost:8080/"
        },
        "id": "DwBpSQv2zDHV",
        "outputId": "adb3026c-9deb-4d85-ba71-11320d5534ae"
      },
      "execution_count": null,
      "outputs": [
        {
          "output_type": "execute_result",
          "data": {
            "text/plain": [
              "0.2242152466367713"
            ]
          },
          "metadata": {},
          "execution_count": 30
        }
      ]
    },
    {
      "cell_type": "code",
      "source": [
        "m = DecisionTreeClassifier(min_samples_leaf=50)\n",
        "m.fit(trn_xs, trn_y)\n",
        "draw_tree(m, trn_xs, size=14)"
      ],
      "metadata": {
        "colab": {
          "base_uri": "https://localhost:8080/",
          "height": 832
        },
        "id": "qoHT0-y5zKtq",
        "outputId": "eb9544fc-1db0-4ac4-fa6e-541b99758769"
      },
      "execution_count": null,
      "outputs": [
        {
          "output_type": "execute_result",
          "data": {
            "image/svg+xml": "<?xml version=\"1.0\" encoding=\"UTF-8\" standalone=\"no\"?>\n<!DOCTYPE svg PUBLIC \"-//W3C//DTD SVG 1.1//EN\"\n \"http://www.w3.org/Graphics/SVG/1.1/DTD/svg11.dtd\">\n<!-- Generated by graphviz version 2.43.0 (0)\n -->\n<!-- Title: Tree Pages: 1 -->\n<svg width=\"1008pt\" height=\"608pt\"\n viewBox=\"0.00 0.00 1008.00 607.64\" xmlns=\"http://www.w3.org/2000/svg\" xmlns:xlink=\"http://www.w3.org/1999/xlink\">\n<g id=\"graph0\" class=\"graph\" transform=\"scale(1.13 1.13) rotate(0) translate(4 681)\">\n<title>Tree</title>\n<polygon fill=\"white\" stroke=\"transparent\" points=\"-4,4 -4,-681 1132.33,-681 1132.33,4 -4,4\"/>\n<!-- 0 -->\n<g id=\"node1\" class=\"node\">\n<title>0</title>\n<path fill=\"#f5ceb2\" stroke=\"black\" d=\"M596.8,-677C596.8,-677 495.8,-677 495.8,-677 489.8,-677 483.8,-671 483.8,-665 483.8,-665 483.8,-621 483.8,-621 483.8,-615 489.8,-609 495.8,-609 495.8,-609 596.8,-609 596.8,-609 602.8,-609 608.8,-615 608.8,-621 608.8,-621 608.8,-665 608.8,-665 608.8,-671 602.8,-677 596.8,-677\"/>\n<text text-anchor=\"start\" x=\"517.3\" y=\"-661.8\" font-family=\"Helvetica,sans-Serif\" font-size=\"14.00\">Sex ≤ 0.5</text>\n<text text-anchor=\"start\" x=\"514.3\" y=\"-646.8\" font-family=\"Helvetica,sans-Serif\" font-size=\"14.00\">gini = 0.47</text>\n<text text-anchor=\"start\" x=\"501.3\" y=\"-631.8\" font-family=\"Helvetica,sans-Serif\" font-size=\"14.00\">samples = 668</text>\n<text text-anchor=\"start\" x=\"491.8\" y=\"-616.8\" font-family=\"Helvetica,sans-Serif\" font-size=\"14.00\">value = [415, 253]</text>\n</g>\n<!-- 1 -->\n<g id=\"node2\" class=\"node\">\n<title>1</title>\n<path fill=\"#7ebfee\" stroke=\"black\" d=\"M449.8,-573C449.8,-573 356.8,-573 356.8,-573 350.8,-573 344.8,-567 344.8,-561 344.8,-561 344.8,-517 344.8,-517 344.8,-511 350.8,-505 356.8,-505 356.8,-505 449.8,-505 449.8,-505 455.8,-505 461.8,-511 461.8,-517 461.8,-517 461.8,-561 461.8,-561 461.8,-567 455.8,-573 449.8,-573\"/>\n<text text-anchor=\"start\" x=\"366.3\" y=\"-557.8\" font-family=\"Helvetica,sans-Serif\" font-size=\"14.00\">Pclass ≤ 2.5</text>\n<text text-anchor=\"start\" x=\"371.3\" y=\"-542.8\" font-family=\"Helvetica,sans-Serif\" font-size=\"14.00\">gini = 0.38</text>\n<text text-anchor=\"start\" x=\"358.3\" y=\"-527.8\" font-family=\"Helvetica,sans-Serif\" font-size=\"14.00\">samples = 229</text>\n<text text-anchor=\"start\" x=\"352.8\" y=\"-512.8\" font-family=\"Helvetica,sans-Serif\" font-size=\"14.00\">value = [59, 170]</text>\n</g>\n<!-- 0&#45;&gt;1 -->\n<g id=\"edge1\" class=\"edge\">\n<title>0&#45;&gt;1</title>\n<path fill=\"none\" stroke=\"black\" d=\"M499.88,-608.88C486.64,-599.44 472.09,-589.06 458.39,-579.29\"/>\n<polygon fill=\"black\" stroke=\"black\" points=\"460.16,-576.26 449.99,-573.3 456.1,-581.96 460.16,-576.26\"/>\n<text text-anchor=\"middle\" x=\"454.11\" y=\"-594.26\" font-family=\"Helvetica,sans-Serif\" font-size=\"14.00\">True</text>\n</g>\n<!-- 8 -->\n<g id=\"node9\" class=\"node\">\n<title>8</title>\n<path fill=\"#eb9e67\" stroke=\"black\" d=\"M743.8,-573C743.8,-573 650.8,-573 650.8,-573 644.8,-573 638.8,-567 638.8,-561 638.8,-561 638.8,-517 638.8,-517 638.8,-511 644.8,-505 650.8,-505 650.8,-505 743.8,-505 743.8,-505 749.8,-505 755.8,-511 755.8,-517 755.8,-517 755.8,-561 755.8,-561 755.8,-567 749.8,-573 743.8,-573\"/>\n<text text-anchor=\"start\" x=\"651.3\" y=\"-557.8\" font-family=\"Helvetica,sans-Serif\" font-size=\"14.00\">LogFare ≤ 3.31</text>\n<text text-anchor=\"start\" x=\"665.3\" y=\"-542.8\" font-family=\"Helvetica,sans-Serif\" font-size=\"14.00\">gini = 0.31</text>\n<text text-anchor=\"start\" x=\"652.3\" y=\"-527.8\" font-family=\"Helvetica,sans-Serif\" font-size=\"14.00\">samples = 439</text>\n<text text-anchor=\"start\" x=\"646.8\" y=\"-512.8\" font-family=\"Helvetica,sans-Serif\" font-size=\"14.00\">value = [356, 83]</text>\n</g>\n<!-- 0&#45;&gt;8 -->\n<g id=\"edge8\" class=\"edge\">\n<title>0&#45;&gt;8</title>\n<path fill=\"none\" stroke=\"black\" d=\"M595.33,-608.88C609.51,-599.3 625.12,-588.76 639.77,-578.86\"/>\n<polygon fill=\"black\" stroke=\"black\" points=\"641.94,-581.62 648.27,-573.12 638.02,-575.82 641.94,-581.62\"/>\n<text text-anchor=\"middle\" x=\"643.51\" y=\"-593.97\" font-family=\"Helvetica,sans-Serif\" font-size=\"14.00\">False</text>\n</g>\n<!-- 2 -->\n<g id=\"node3\" class=\"node\">\n<title>2</title>\n<path fill=\"#40a0e6\" stroke=\"black\" d=\"M236.3,-469C236.3,-469 150.3,-469 150.3,-469 144.3,-469 138.3,-463 138.3,-457 138.3,-457 138.3,-413 138.3,-413 138.3,-407 144.3,-401 150.3,-401 150.3,-401 236.3,-401 236.3,-401 242.3,-401 248.3,-407 248.3,-413 248.3,-413 248.3,-457 248.3,-457 248.3,-463 242.3,-469 236.3,-469\"/>\n<text text-anchor=\"start\" x=\"158.3\" y=\"-453.8\" font-family=\"Helvetica,sans-Serif\" font-size=\"14.00\">SibSp ≤ 0.5</text>\n<text text-anchor=\"start\" x=\"161.3\" y=\"-438.8\" font-family=\"Helvetica,sans-Serif\" font-size=\"14.00\">gini = 0.06</text>\n<text text-anchor=\"start\" x=\"148.3\" y=\"-423.8\" font-family=\"Helvetica,sans-Serif\" font-size=\"14.00\">samples = 120</text>\n<text text-anchor=\"start\" x=\"146.3\" y=\"-408.8\" font-family=\"Helvetica,sans-Serif\" font-size=\"14.00\">value = [4, 116]</text>\n</g>\n<!-- 1&#45;&gt;2 -->\n<g id=\"edge2\" class=\"edge\">\n<title>1&#45;&gt;2</title>\n<path fill=\"none\" stroke=\"black\" d=\"M344.53,-509.45C317.49,-496.32 285.35,-480.71 257.66,-467.26\"/>\n<polygon fill=\"black\" stroke=\"black\" points=\"258.98,-464.01 248.46,-462.79 255.92,-470.31 258.98,-464.01\"/>\n</g>\n<!-- 5 -->\n<g id=\"node6\" class=\"node\">\n<title>5</title>\n<path fill=\"#fffdfb\" stroke=\"black\" d=\"M446.3,-469C446.3,-469 360.3,-469 360.3,-469 354.3,-469 348.3,-463 348.3,-457 348.3,-457 348.3,-413 348.3,-413 348.3,-407 354.3,-401 360.3,-401 360.3,-401 446.3,-401 446.3,-401 452.3,-401 458.3,-407 458.3,-413 458.3,-413 458.3,-457 458.3,-457 458.3,-463 452.3,-469 446.3,-469\"/>\n<text text-anchor=\"start\" x=\"360.8\" y=\"-453.8\" font-family=\"Helvetica,sans-Serif\" font-size=\"14.00\">LogFare ≤ 2.7</text>\n<text text-anchor=\"start\" x=\"375.3\" y=\"-438.8\" font-family=\"Helvetica,sans-Serif\" font-size=\"14.00\">gini = 0.5</text>\n<text text-anchor=\"start\" x=\"358.3\" y=\"-423.8\" font-family=\"Helvetica,sans-Serif\" font-size=\"14.00\">samples = 109</text>\n<text text-anchor=\"start\" x=\"356.3\" y=\"-408.8\" font-family=\"Helvetica,sans-Serif\" font-size=\"14.00\">value = [55, 54]</text>\n</g>\n<!-- 1&#45;&gt;5 -->\n<g id=\"edge5\" class=\"edge\">\n<title>1&#45;&gt;5</title>\n<path fill=\"none\" stroke=\"black\" d=\"M403.3,-504.88C403.3,-496.78 403.3,-487.98 403.3,-479.47\"/>\n<polygon fill=\"black\" stroke=\"black\" points=\"406.8,-479.3 403.3,-469.3 399.8,-479.3 406.8,-479.3\"/>\n</g>\n<!-- 3 -->\n<g id=\"node4\" class=\"node\">\n<title>3</title>\n<path fill=\"#3c9ee5\" stroke=\"black\" d=\"M96.3,-357.5C96.3,-357.5 18.3,-357.5 18.3,-357.5 12.3,-357.5 6.3,-351.5 6.3,-345.5 6.3,-345.5 6.3,-316.5 6.3,-316.5 6.3,-310.5 12.3,-304.5 18.3,-304.5 18.3,-304.5 96.3,-304.5 96.3,-304.5 102.3,-304.5 108.3,-310.5 108.3,-316.5 108.3,-316.5 108.3,-345.5 108.3,-345.5 108.3,-351.5 102.3,-357.5 96.3,-357.5\"/>\n<text text-anchor=\"start\" x=\"25.3\" y=\"-342.3\" font-family=\"Helvetica,sans-Serif\" font-size=\"14.00\">gini = 0.03</text>\n<text text-anchor=\"start\" x=\"16.3\" y=\"-327.3\" font-family=\"Helvetica,sans-Serif\" font-size=\"14.00\">samples = 67</text>\n<text text-anchor=\"start\" x=\"14.3\" y=\"-312.3\" font-family=\"Helvetica,sans-Serif\" font-size=\"14.00\">value = [1, 66]</text>\n</g>\n<!-- 2&#45;&gt;3 -->\n<g id=\"edge3\" class=\"edge\">\n<title>2&#45;&gt;3</title>\n<path fill=\"none\" stroke=\"black\" d=\"M149.15,-400.88C133.17,-388.9 115.17,-375.4 99.37,-363.55\"/>\n<polygon fill=\"black\" stroke=\"black\" points=\"101.43,-360.72 91.33,-357.52 97.23,-366.32 101.43,-360.72\"/>\n</g>\n<!-- 4 -->\n<g id=\"node5\" class=\"node\">\n<title>4</title>\n<path fill=\"#45a3e7\" stroke=\"black\" d=\"M232.3,-357.5C232.3,-357.5 154.3,-357.5 154.3,-357.5 148.3,-357.5 142.3,-351.5 142.3,-345.5 142.3,-345.5 142.3,-316.5 142.3,-316.5 142.3,-310.5 148.3,-304.5 154.3,-304.5 154.3,-304.5 232.3,-304.5 232.3,-304.5 238.3,-304.5 244.3,-310.5 244.3,-316.5 244.3,-316.5 244.3,-345.5 244.3,-345.5 244.3,-351.5 238.3,-357.5 232.3,-357.5\"/>\n<text text-anchor=\"start\" x=\"161.3\" y=\"-342.3\" font-family=\"Helvetica,sans-Serif\" font-size=\"14.00\">gini = 0.11</text>\n<text text-anchor=\"start\" x=\"152.3\" y=\"-327.3\" font-family=\"Helvetica,sans-Serif\" font-size=\"14.00\">samples = 53</text>\n<text text-anchor=\"start\" x=\"150.3\" y=\"-312.3\" font-family=\"Helvetica,sans-Serif\" font-size=\"14.00\">value = [3, 50]</text>\n</g>\n<!-- 2&#45;&gt;4 -->\n<g id=\"edge4\" class=\"edge\">\n<title>2&#45;&gt;4</title>\n<path fill=\"none\" stroke=\"black\" d=\"M193.3,-400.88C193.3,-390.33 193.3,-378.6 193.3,-367.85\"/>\n<polygon fill=\"black\" stroke=\"black\" points=\"196.8,-367.52 193.3,-357.52 189.8,-367.52 196.8,-367.52\"/>\n</g>\n<!-- 6 -->\n<g id=\"node7\" class=\"node\">\n<title>6</title>\n<path fill=\"#cbe5f8\" stroke=\"black\" d=\"M376.3,-357.5C376.3,-357.5 290.3,-357.5 290.3,-357.5 284.3,-357.5 278.3,-351.5 278.3,-345.5 278.3,-345.5 278.3,-316.5 278.3,-316.5 278.3,-310.5 284.3,-304.5 290.3,-304.5 290.3,-304.5 376.3,-304.5 376.3,-304.5 382.3,-304.5 388.3,-310.5 388.3,-316.5 388.3,-316.5 388.3,-345.5 388.3,-345.5 388.3,-351.5 382.3,-357.5 376.3,-357.5\"/>\n<text text-anchor=\"start\" x=\"301.3\" y=\"-342.3\" font-family=\"Helvetica,sans-Serif\" font-size=\"14.00\">gini = 0.49</text>\n<text text-anchor=\"start\" x=\"292.3\" y=\"-327.3\" font-family=\"Helvetica,sans-Serif\" font-size=\"14.00\">samples = 59</text>\n<text text-anchor=\"start\" x=\"286.3\" y=\"-312.3\" font-family=\"Helvetica,sans-Serif\" font-size=\"14.00\">value = [25, 34]</text>\n</g>\n<!-- 5&#45;&gt;6 -->\n<g id=\"edge6\" class=\"edge\">\n<title>5&#45;&gt;6</title>\n<path fill=\"none\" stroke=\"black\" d=\"M380.58,-400.88C372.88,-389.67 364.27,-377.13 356.54,-365.85\"/>\n<polygon fill=\"black\" stroke=\"black\" points=\"359.36,-363.78 350.82,-357.52 353.59,-367.75 359.36,-363.78\"/>\n</g>\n<!-- 7 -->\n<g id=\"node8\" class=\"node\">\n<title>7</title>\n<path fill=\"#f6d5bd\" stroke=\"black\" d=\"M521.3,-357.5C521.3,-357.5 435.3,-357.5 435.3,-357.5 429.3,-357.5 423.3,-351.5 423.3,-345.5 423.3,-345.5 423.3,-316.5 423.3,-316.5 423.3,-310.5 429.3,-304.5 435.3,-304.5 435.3,-304.5 521.3,-304.5 521.3,-304.5 527.3,-304.5 533.3,-310.5 533.3,-316.5 533.3,-316.5 533.3,-345.5 533.3,-345.5 533.3,-351.5 527.3,-357.5 521.3,-357.5\"/>\n<text text-anchor=\"start\" x=\"446.3\" y=\"-342.3\" font-family=\"Helvetica,sans-Serif\" font-size=\"14.00\">gini = 0.48</text>\n<text text-anchor=\"start\" x=\"437.3\" y=\"-327.3\" font-family=\"Helvetica,sans-Serif\" font-size=\"14.00\">samples = 50</text>\n<text text-anchor=\"start\" x=\"431.3\" y=\"-312.3\" font-family=\"Helvetica,sans-Serif\" font-size=\"14.00\">value = [30, 20]</text>\n</g>\n<!-- 5&#45;&gt;7 -->\n<g id=\"edge7\" class=\"edge\">\n<title>5&#45;&gt;7</title>\n<path fill=\"none\" stroke=\"black\" d=\"M427.65,-400.88C435.9,-389.67 445.12,-377.13 453.41,-365.85\"/>\n<polygon fill=\"black\" stroke=\"black\" points=\"456.44,-367.65 459.54,-357.52 450.8,-363.5 456.44,-367.65\"/>\n</g>\n<!-- 9 -->\n<g id=\"node10\" class=\"node\">\n<title>9</title>\n<path fill=\"#e99659\" stroke=\"black\" d=\"M743.8,-469C743.8,-469 650.8,-469 650.8,-469 644.8,-469 638.8,-463 638.8,-457 638.8,-457 638.8,-413 638.8,-413 638.8,-407 644.8,-401 650.8,-401 650.8,-401 743.8,-401 743.8,-401 749.8,-401 755.8,-407 755.8,-413 755.8,-413 755.8,-457 755.8,-457 755.8,-463 749.8,-469 743.8,-469\"/>\n<text text-anchor=\"start\" x=\"664.3\" y=\"-453.8\" font-family=\"Helvetica,sans-Serif\" font-size=\"14.00\">Age ≤ 20.5</text>\n<text text-anchor=\"start\" x=\"665.3\" y=\"-438.8\" font-family=\"Helvetica,sans-Serif\" font-size=\"14.00\">gini = 0.24</text>\n<text text-anchor=\"start\" x=\"652.3\" y=\"-423.8\" font-family=\"Helvetica,sans-Serif\" font-size=\"14.00\">samples = 320</text>\n<text text-anchor=\"start\" x=\"646.8\" y=\"-408.8\" font-family=\"Helvetica,sans-Serif\" font-size=\"14.00\">value = [275, 45]</text>\n</g>\n<!-- 8&#45;&gt;9 -->\n<g id=\"edge9\" class=\"edge\">\n<title>8&#45;&gt;9</title>\n<path fill=\"none\" stroke=\"black\" d=\"M697.3,-504.88C697.3,-496.78 697.3,-487.98 697.3,-479.47\"/>\n<polygon fill=\"black\" stroke=\"black\" points=\"700.8,-479.3 697.3,-469.3 693.8,-479.3 700.8,-479.3\"/>\n</g>\n<!-- 18 -->\n<g id=\"node19\" class=\"node\">\n<title>18</title>\n<path fill=\"#f1bc96\" stroke=\"black\" d=\"M964.3,-469C964.3,-469 878.3,-469 878.3,-469 872.3,-469 866.3,-463 866.3,-457 866.3,-457 866.3,-413 866.3,-413 866.3,-407 872.3,-401 878.3,-401 878.3,-401 964.3,-401 964.3,-401 970.3,-401 976.3,-407 976.3,-413 976.3,-413 976.3,-457 976.3,-457 976.3,-463 970.3,-469 964.3,-469\"/>\n<text text-anchor=\"start\" x=\"886.3\" y=\"-453.8\" font-family=\"Helvetica,sans-Serif\" font-size=\"14.00\">SibSp ≤ 0.5</text>\n<text text-anchor=\"start\" x=\"889.3\" y=\"-438.8\" font-family=\"Helvetica,sans-Serif\" font-size=\"14.00\">gini = 0.43</text>\n<text text-anchor=\"start\" x=\"876.3\" y=\"-423.8\" font-family=\"Helvetica,sans-Serif\" font-size=\"14.00\">samples = 119</text>\n<text text-anchor=\"start\" x=\"874.3\" y=\"-408.8\" font-family=\"Helvetica,sans-Serif\" font-size=\"14.00\">value = [81, 38]</text>\n</g>\n<!-- 8&#45;&gt;18 -->\n<g id=\"edge18\" class=\"edge\">\n<title>8&#45;&gt;18</title>\n<path fill=\"none\" stroke=\"black\" d=\"M755.86,-511.33C786.89,-497.2 825.07,-479.82 856.93,-465.31\"/>\n<polygon fill=\"black\" stroke=\"black\" points=\"858.52,-468.44 866.17,-461.11 855.61,-462.07 858.52,-468.44\"/>\n</g>\n<!-- 10 -->\n<g id=\"node11\" class=\"node\">\n<title>10</title>\n<path fill=\"#f1b992\" stroke=\"black\" d=\"M666.3,-357.5C666.3,-357.5 580.3,-357.5 580.3,-357.5 574.3,-357.5 568.3,-351.5 568.3,-345.5 568.3,-345.5 568.3,-316.5 568.3,-316.5 568.3,-310.5 574.3,-304.5 580.3,-304.5 580.3,-304.5 666.3,-304.5 666.3,-304.5 672.3,-304.5 678.3,-310.5 678.3,-316.5 678.3,-316.5 678.3,-345.5 678.3,-345.5 678.3,-351.5 672.3,-357.5 666.3,-357.5\"/>\n<text text-anchor=\"start\" x=\"591.3\" y=\"-342.3\" font-family=\"Helvetica,sans-Serif\" font-size=\"14.00\">gini = 0.43</text>\n<text text-anchor=\"start\" x=\"582.3\" y=\"-327.3\" font-family=\"Helvetica,sans-Serif\" font-size=\"14.00\">samples = 55</text>\n<text text-anchor=\"start\" x=\"576.3\" y=\"-312.3\" font-family=\"Helvetica,sans-Serif\" font-size=\"14.00\">value = [38, 17]</text>\n</g>\n<!-- 9&#45;&gt;10 -->\n<g id=\"edge10\" class=\"edge\">\n<title>9&#45;&gt;10</title>\n<path fill=\"none\" stroke=\"black\" d=\"M673.28,-400.88C665.14,-389.67 656.04,-377.13 647.86,-365.85\"/>\n<polygon fill=\"black\" stroke=\"black\" points=\"650.52,-363.56 641.82,-357.52 644.86,-367.67 650.52,-363.56\"/>\n</g>\n<!-- 11 -->\n<g id=\"node12\" class=\"node\">\n<title>11</title>\n<path fill=\"#e89050\" stroke=\"black\" d=\"M818.8,-365C818.8,-365 725.8,-365 725.8,-365 719.8,-365 713.8,-359 713.8,-353 713.8,-353 713.8,-309 713.8,-309 713.8,-303 719.8,-297 725.8,-297 725.8,-297 818.8,-297 818.8,-297 824.8,-297 830.8,-303 830.8,-309 830.8,-309 830.8,-353 830.8,-353 830.8,-359 824.8,-365 818.8,-365\"/>\n<text text-anchor=\"start\" x=\"739.3\" y=\"-349.8\" font-family=\"Helvetica,sans-Serif\" font-size=\"14.00\">Age ≤ 32.5</text>\n<text text-anchor=\"start\" x=\"740.3\" y=\"-334.8\" font-family=\"Helvetica,sans-Serif\" font-size=\"14.00\">gini = 0.19</text>\n<text text-anchor=\"start\" x=\"727.3\" y=\"-319.8\" font-family=\"Helvetica,sans-Serif\" font-size=\"14.00\">samples = 265</text>\n<text text-anchor=\"start\" x=\"721.8\" y=\"-304.8\" font-family=\"Helvetica,sans-Serif\" font-size=\"14.00\">value = [237, 28]</text>\n</g>\n<!-- 9&#45;&gt;11 -->\n<g id=\"edge11\" class=\"edge\">\n<title>9&#45;&gt;11</title>\n<path fill=\"none\" stroke=\"black\" d=\"M721.65,-400.88C728.07,-392.15 735.08,-382.62 741.78,-373.51\"/>\n<polygon fill=\"black\" stroke=\"black\" points=\"744.71,-375.43 747.82,-365.3 739.08,-371.28 744.71,-375.43\"/>\n</g>\n<!-- 12 -->\n<g id=\"node13\" class=\"node\">\n<title>12</title>\n<path fill=\"#e99356\" stroke=\"black\" d=\"M746.8,-261C746.8,-261 653.8,-261 653.8,-261 647.8,-261 641.8,-255 641.8,-249 641.8,-249 641.8,-205 641.8,-205 641.8,-199 647.8,-193 653.8,-193 653.8,-193 746.8,-193 746.8,-193 752.8,-193 758.8,-199 758.8,-205 758.8,-205 758.8,-249 758.8,-249 758.8,-255 752.8,-261 746.8,-261\"/>\n<text text-anchor=\"start\" x=\"663.8\" y=\"-245.8\" font-family=\"Helvetica,sans-Serif\" font-size=\"14.00\">Age ≤ 24.75</text>\n<text text-anchor=\"start\" x=\"668.3\" y=\"-230.8\" font-family=\"Helvetica,sans-Serif\" font-size=\"14.00\">gini = 0.22</text>\n<text text-anchor=\"start\" x=\"655.3\" y=\"-215.8\" font-family=\"Helvetica,sans-Serif\" font-size=\"14.00\">samples = 181</text>\n<text text-anchor=\"start\" x=\"649.8\" y=\"-200.8\" font-family=\"Helvetica,sans-Serif\" font-size=\"14.00\">value = [158, 23]</text>\n</g>\n<!-- 11&#45;&gt;12 -->\n<g id=\"edge12\" class=\"edge\">\n<title>11&#45;&gt;12</title>\n<path fill=\"none\" stroke=\"black\" d=\"M748.93,-296.88C742.77,-288.15 736.04,-278.62 729.61,-269.51\"/>\n<polygon fill=\"black\" stroke=\"black\" points=\"732.44,-267.45 723.81,-261.3 726.72,-271.49 732.44,-267.45\"/>\n</g>\n<!-- 17 -->\n<g id=\"node18\" class=\"node\">\n<title>17</title>\n<path fill=\"#e78946\" stroke=\"black\" d=\"M883.3,-253.5C883.3,-253.5 805.3,-253.5 805.3,-253.5 799.3,-253.5 793.3,-247.5 793.3,-241.5 793.3,-241.5 793.3,-212.5 793.3,-212.5 793.3,-206.5 799.3,-200.5 805.3,-200.5 805.3,-200.5 883.3,-200.5 883.3,-200.5 889.3,-200.5 895.3,-206.5 895.3,-212.5 895.3,-212.5 895.3,-241.5 895.3,-241.5 895.3,-247.5 889.3,-253.5 883.3,-253.5\"/>\n<text text-anchor=\"start\" x=\"812.3\" y=\"-238.3\" font-family=\"Helvetica,sans-Serif\" font-size=\"14.00\">gini = 0.11</text>\n<text text-anchor=\"start\" x=\"803.3\" y=\"-223.3\" font-family=\"Helvetica,sans-Serif\" font-size=\"14.00\">samples = 84</text>\n<text text-anchor=\"start\" x=\"801.3\" y=\"-208.3\" font-family=\"Helvetica,sans-Serif\" font-size=\"14.00\">value = [79, 5]</text>\n</g>\n<!-- 11&#45;&gt;17 -->\n<g id=\"edge17\" class=\"edge\">\n<title>11&#45;&gt;17</title>\n<path fill=\"none\" stroke=\"black\" d=\"M795.68,-296.88C803.6,-285.67 812.45,-273.13 820.41,-261.85\"/>\n<polygon fill=\"black\" stroke=\"black\" points=\"823.38,-263.71 826.29,-253.52 817.66,-259.67 823.38,-263.71\"/>\n</g>\n<!-- 13 -->\n<g id=\"node14\" class=\"node\">\n<title>13</title>\n<path fill=\"#e88d4c\" stroke=\"black\" d=\"M671.8,-157C671.8,-157 578.8,-157 578.8,-157 572.8,-157 566.8,-151 566.8,-145 566.8,-145 566.8,-101 566.8,-101 566.8,-95 572.8,-89 578.8,-89 578.8,-89 671.8,-89 671.8,-89 677.8,-89 683.8,-95 683.8,-101 683.8,-101 683.8,-145 683.8,-145 683.8,-151 677.8,-157 671.8,-157\"/>\n<text text-anchor=\"start\" x=\"579.3\" y=\"-141.8\" font-family=\"Helvetica,sans-Serif\" font-size=\"14.00\">LogFare ≤ 2.18</text>\n<text text-anchor=\"start\" x=\"593.3\" y=\"-126.8\" font-family=\"Helvetica,sans-Serif\" font-size=\"14.00\">gini = 0.16</text>\n<text text-anchor=\"start\" x=\"580.3\" y=\"-111.8\" font-family=\"Helvetica,sans-Serif\" font-size=\"14.00\">samples = 114</text>\n<text text-anchor=\"start\" x=\"574.8\" y=\"-96.8\" font-family=\"Helvetica,sans-Serif\" font-size=\"14.00\">value = [104, 10]</text>\n</g>\n<!-- 12&#45;&gt;13 -->\n<g id=\"edge13\" class=\"edge\">\n<title>12&#45;&gt;13</title>\n<path fill=\"none\" stroke=\"black\" d=\"M675.95,-192.88C669.54,-184.15 662.53,-174.62 655.83,-165.51\"/>\n<polygon fill=\"black\" stroke=\"black\" points=\"658.53,-163.28 649.79,-157.3 652.89,-167.43 658.53,-163.28\"/>\n</g>\n<!-- 16 -->\n<g id=\"node17\" class=\"node\">\n<title>16</title>\n<path fill=\"#eb9f69\" stroke=\"black\" d=\"M817.3,-149.5C817.3,-149.5 731.3,-149.5 731.3,-149.5 725.3,-149.5 719.3,-143.5 719.3,-137.5 719.3,-137.5 719.3,-108.5 719.3,-108.5 719.3,-102.5 725.3,-96.5 731.3,-96.5 731.3,-96.5 817.3,-96.5 817.3,-96.5 823.3,-96.5 829.3,-102.5 829.3,-108.5 829.3,-108.5 829.3,-137.5 829.3,-137.5 829.3,-143.5 823.3,-149.5 817.3,-149.5\"/>\n<text text-anchor=\"start\" x=\"742.3\" y=\"-134.3\" font-family=\"Helvetica,sans-Serif\" font-size=\"14.00\">gini = 0.31</text>\n<text text-anchor=\"start\" x=\"733.3\" y=\"-119.3\" font-family=\"Helvetica,sans-Serif\" font-size=\"14.00\">samples = 67</text>\n<text text-anchor=\"start\" x=\"727.3\" y=\"-104.3\" font-family=\"Helvetica,sans-Serif\" font-size=\"14.00\">value = [54, 13]</text>\n</g>\n<!-- 12&#45;&gt;16 -->\n<g id=\"edge16\" class=\"edge\">\n<title>12&#45;&gt;16</title>\n<path fill=\"none\" stroke=\"black\" d=\"M724.33,-192.88C732.47,-181.67 741.57,-169.13 749.74,-157.85\"/>\n<polygon fill=\"black\" stroke=\"black\" points=\"752.75,-159.67 755.79,-149.52 747.08,-155.56 752.75,-159.67\"/>\n</g>\n<!-- 14 -->\n<g id=\"node15\" class=\"node\">\n<title>14</title>\n<path fill=\"#e99254\" stroke=\"black\" d=\"M596.3,-52.5C596.3,-52.5 518.3,-52.5 518.3,-52.5 512.3,-52.5 506.3,-46.5 506.3,-40.5 506.3,-40.5 506.3,-11.5 506.3,-11.5 506.3,-5.5 512.3,0.5 518.3,0.5 518.3,0.5 596.3,0.5 596.3,0.5 602.3,0.5 608.3,-5.5 608.3,-11.5 608.3,-11.5 608.3,-40.5 608.3,-40.5 608.3,-46.5 602.3,-52.5 596.3,-52.5\"/>\n<text text-anchor=\"start\" x=\"525.3\" y=\"-37.3\" font-family=\"Helvetica,sans-Serif\" font-size=\"14.00\">gini = 0.21</text>\n<text text-anchor=\"start\" x=\"516.3\" y=\"-22.3\" font-family=\"Helvetica,sans-Serif\" font-size=\"14.00\">samples = 50</text>\n<text text-anchor=\"start\" x=\"514.3\" y=\"-7.3\" font-family=\"Helvetica,sans-Serif\" font-size=\"14.00\">value = [44, 6]</text>\n</g>\n<!-- 13&#45;&gt;14 -->\n<g id=\"edge14\" class=\"edge\">\n<title>13&#45;&gt;14</title>\n<path fill=\"none\" stroke=\"black\" d=\"M601.52,-88.77C595.08,-79.77 588.09,-70.02 581.62,-60.97\"/>\n<polygon fill=\"black\" stroke=\"black\" points=\"584.27,-58.67 575.61,-52.57 578.58,-62.74 584.27,-58.67\"/>\n</g>\n<!-- 15 -->\n<g id=\"node16\" class=\"node\">\n<title>15</title>\n<path fill=\"#e78946\" stroke=\"black\" d=\"M732.3,-52.5C732.3,-52.5 654.3,-52.5 654.3,-52.5 648.3,-52.5 642.3,-46.5 642.3,-40.5 642.3,-40.5 642.3,-11.5 642.3,-11.5 642.3,-5.5 648.3,0.5 654.3,0.5 654.3,0.5 732.3,0.5 732.3,0.5 738.3,0.5 744.3,-5.5 744.3,-11.5 744.3,-11.5 744.3,-40.5 744.3,-40.5 744.3,-46.5 738.3,-52.5 732.3,-52.5\"/>\n<text text-anchor=\"start\" x=\"661.3\" y=\"-37.3\" font-family=\"Helvetica,sans-Serif\" font-size=\"14.00\">gini = 0.12</text>\n<text text-anchor=\"start\" x=\"652.3\" y=\"-22.3\" font-family=\"Helvetica,sans-Serif\" font-size=\"14.00\">samples = 64</text>\n<text text-anchor=\"start\" x=\"650.3\" y=\"-7.3\" font-family=\"Helvetica,sans-Serif\" font-size=\"14.00\">value = [60, 4]</text>\n</g>\n<!-- 13&#45;&gt;15 -->\n<g id=\"edge15\" class=\"edge\">\n<title>13&#45;&gt;15</title>\n<path fill=\"none\" stroke=\"black\" d=\"M649.09,-88.77C655.53,-79.77 662.51,-70.02 668.99,-60.97\"/>\n<polygon fill=\"black\" stroke=\"black\" points=\"672.03,-62.74 675,-52.57 666.33,-58.67 672.03,-62.74\"/>\n</g>\n<!-- 19 -->\n<g id=\"node20\" class=\"node\">\n<title>19</title>\n<path fill=\"#f6d5bd\" stroke=\"black\" d=\"M964.3,-357.5C964.3,-357.5 878.3,-357.5 878.3,-357.5 872.3,-357.5 866.3,-351.5 866.3,-345.5 866.3,-345.5 866.3,-316.5 866.3,-316.5 866.3,-310.5 872.3,-304.5 878.3,-304.5 878.3,-304.5 964.3,-304.5 964.3,-304.5 970.3,-304.5 976.3,-310.5 976.3,-316.5 976.3,-316.5 976.3,-345.5 976.3,-345.5 976.3,-351.5 970.3,-357.5 964.3,-357.5\"/>\n<text text-anchor=\"start\" x=\"889.3\" y=\"-342.3\" font-family=\"Helvetica,sans-Serif\" font-size=\"14.00\">gini = 0.48</text>\n<text text-anchor=\"start\" x=\"880.3\" y=\"-327.3\" font-family=\"Helvetica,sans-Serif\" font-size=\"14.00\">samples = 60</text>\n<text text-anchor=\"start\" x=\"874.3\" y=\"-312.3\" font-family=\"Helvetica,sans-Serif\" font-size=\"14.00\">value = [36, 24]</text>\n</g>\n<!-- 18&#45;&gt;19 -->\n<g id=\"edge19\" class=\"edge\">\n<title>18&#45;&gt;19</title>\n<path fill=\"none\" stroke=\"black\" d=\"M921.3,-400.88C921.3,-390.33 921.3,-378.6 921.3,-367.85\"/>\n<polygon fill=\"black\" stroke=\"black\" points=\"924.8,-367.52 921.3,-357.52 917.8,-367.52 924.8,-367.52\"/>\n</g>\n<!-- 20 -->\n<g id=\"node21\" class=\"node\">\n<title>20</title>\n<path fill=\"#eda877\" stroke=\"black\" d=\"M1109.3,-357.5C1109.3,-357.5 1023.3,-357.5 1023.3,-357.5 1017.3,-357.5 1011.3,-351.5 1011.3,-345.5 1011.3,-345.5 1011.3,-316.5 1011.3,-316.5 1011.3,-310.5 1017.3,-304.5 1023.3,-304.5 1023.3,-304.5 1109.3,-304.5 1109.3,-304.5 1115.3,-304.5 1121.3,-310.5 1121.3,-316.5 1121.3,-316.5 1121.3,-345.5 1121.3,-345.5 1121.3,-351.5 1115.3,-357.5 1109.3,-357.5\"/>\n<text text-anchor=\"start\" x=\"1034.3\" y=\"-342.3\" font-family=\"Helvetica,sans-Serif\" font-size=\"14.00\">gini = 0.36</text>\n<text text-anchor=\"start\" x=\"1025.3\" y=\"-327.3\" font-family=\"Helvetica,sans-Serif\" font-size=\"14.00\">samples = 59</text>\n<text text-anchor=\"start\" x=\"1019.3\" y=\"-312.3\" font-family=\"Helvetica,sans-Serif\" font-size=\"14.00\">value = [45, 14]</text>\n</g>\n<!-- 18&#45;&gt;20 -->\n<g id=\"edge20\" class=\"edge\">\n<title>18&#45;&gt;20</title>\n<path fill=\"none\" stroke=\"black\" d=\"M968.38,-400.88C985.42,-388.9 1004.61,-375.4 1021.45,-363.55\"/>\n<polygon fill=\"black\" stroke=\"black\" points=\"1023.86,-366.14 1030.03,-357.52 1019.83,-360.41 1023.86,-366.14\"/>\n</g>\n</g>\n</svg>\n",
            "text/plain": [
              "<graphviz.sources.Source at 0x7fe521c9bf70>"
            ]
          },
          "metadata": {},
          "execution_count": 31
        }
      ]
    },
    {
      "cell_type": "code",
      "source": [
        "mean_absolute_error(val_y, m.predict(val_xs))"
      ],
      "metadata": {
        "colab": {
          "base_uri": "https://localhost:8080/"
        },
        "id": "-YHgkXixzRA9",
        "outputId": "62213a9c-618c-4f93-c934-9f22780f5591"
      },
      "execution_count": null,
      "outputs": [
        {
          "output_type": "execute_result",
          "data": {
            "text/plain": [
              "0.18385650224215247"
            ]
          },
          "metadata": {},
          "execution_count": 32
        }
      ]
    },
    {
      "cell_type": "markdown",
      "source": [
        "## The random forest"
      ],
      "metadata": {
        "id": "teAwgqeDzX2d"
      }
    },
    {
      "cell_type": "code",
      "source": [
        "def get_tree(prop=0.75):\n",
        "    n = len(trn_y)\n",
        "    idxs = random.choice(n, int(n*prop))\n",
        "    return DecisionTreeClassifier(min_samples_leaf=5).fit(trn_xs.iloc[idxs], trn_y.iloc[idxs])"
      ],
      "metadata": {
        "id": "yByJnpfKz1fk"
      },
      "execution_count": null,
      "outputs": []
    },
    {
      "cell_type": "code",
      "source": [
        "trees = [get_tree() for t in range(100)]"
      ],
      "metadata": {
        "id": "lPHORdwPz3f_"
      },
      "execution_count": null,
      "outputs": []
    },
    {
      "cell_type": "code",
      "source": [
        "all_probs = [t.predict(val_xs) for t in trees]\n",
        "avg_probs = np.stack(all_probs).mean(0)\n",
        "\n",
        "mean_absolute_error(val_y, avg_probs)"
      ],
      "metadata": {
        "colab": {
          "base_uri": "https://localhost:8080/"
        },
        "id": "tJP9VSNnz5Ik",
        "outputId": "468b8af8-84ca-480f-8809-13b3cb618b4b"
      },
      "execution_count": null,
      "outputs": [
        {
          "output_type": "execute_result",
          "data": {
            "text/plain": [
              "0.2272645739910314"
            ]
          },
          "metadata": {},
          "execution_count": 35
        }
      ]
    },
    {
      "cell_type": "code",
      "source": [
        "from sklearn.ensemble import RandomForestClassifier\n",
        "\n",
        "rf = RandomForestClassifier(100, min_samples_leaf=5)\n",
        "rf.fit(trn_xs, trn_y);\n",
        "mean_absolute_error(val_y, rf.predict(val_xs))"
      ],
      "metadata": {
        "colab": {
          "base_uri": "https://localhost:8080/"
        },
        "id": "FrOOW9i_z7UY",
        "outputId": "926f4514-44ab-42d7-98d1-4cad09717da4"
      },
      "execution_count": null,
      "outputs": [
        {
          "output_type": "execute_result",
          "data": {
            "text/plain": [
              "0.18834080717488788"
            ]
          },
          "metadata": {},
          "execution_count": 36
        }
      ]
    },
    {
      "cell_type": "code",
      "source": [
        "  pd.DataFrame(dict(cols=trn_xs.columns, imp=m.feature_importances_)).plot('cols', 'imp', 'barh');"
      ],
      "metadata": {
        "colab": {
          "base_uri": "https://localhost:8080/",
          "height": 430
        },
        "id": "-wLUIaP00Ai9",
        "outputId": "a037af3b-0a35-4fbd-c6e7-1ddaf06a1ea7"
      },
      "execution_count": null,
      "outputs": [
        {
          "output_type": "display_data",
          "data": {
            "text/plain": [
              "<Figure size 640x480 with 1 Axes>"
            ],
            "image/png": "[encoded data removed]"
          },
          "metadata": {
            "image/png": {
              "width": 615,
              "height": 413
            }
          }
        }
      ]
    },
    {
      "cell_type": "code",
      "source": [
        "trn_xs"
      ],
      "metadata": {
        "id": "Im0uC4O80JP5",
        "colab": {
          "base_uri": "https://localhost:8080/",
          "height": 424
        },
        "outputId": "b06dc619-45dc-4c89-be28-00bd49f2853e"
      },
      "execution_count": null,
      "outputs": [
        {
          "output_type": "execute_result",
          "data": {
            "text/plain": [
              "     Sex  Embarked    Age  SibSp  Parch   LogFare  Pclass\n",
              "298    1         2  24.00      0      0  3.449988       1\n",
              "884    1         2  25.00      0      0  2.085672       3\n",
              "247    0         2  24.00      0      2  2.740840       2\n",
              "478    1         2  22.00      0      0  2.142510       3\n",
              "305    1         2   0.92      1      2  5.027492       1\n",
              "..   ...       ...    ...    ...    ...       ...     ...\n",
              "106    0         2  21.00      0      0  2.157559       3\n",
              "270    1         2  24.00      0      0  3.465736       1\n",
              "860    1         2  41.00      2      0  2.715244       3\n",
              "435    0         2  14.00      1      2  4.795791       1\n",
              "102    1         2  21.00      0      1  4.360388       1\n",
              "\n",
              "[668 rows x 7 columns]"
            ],
            "text/html": [
              "\n",
              "  <div id=\"df-7bad3610-135a-4e27-a0e4-167c46b85174\">\n",
              "    <div class=\"colab-df-container\">\n",
              "      <div>\n",
              "<style scoped>\n",
              "    .dataframe tbody tr th:only-of-type {\n",
              "        vertical-align: middle;\n",
              "    }\n",
              "\n",
              "    .dataframe tbody tr th {\n",
              "        vertical-align: top;\n",
              "    }\n",
              "\n",
              "    .dataframe thead th {\n",
              "        text-align: right;\n",
              "    }\n",
              "</style>\n",
              "<table border=\"1\" class=\"dataframe\">\n",
              "  <thead>\n",
              "    <tr style=\"text-align: right;\">\n",
              "      <th></th>\n",
              "      <th>Sex</th>\n",
              "      <th>Embarked</th>\n",
              "      <th>Age</th>\n",
              "      <th>SibSp</th>\n",
              "      <th>Parch</th>\n",
              "      <th>LogFare</th>\n",
              "      <th>Pclass</th>\n",
              "    </tr>\n",
              "  </thead>\n",
              "  <tbody>\n",
              "    <tr>\n",
              "      <th>298</th>\n",
              "      <td>1</td>\n",
              "      <td>2</td>\n",
              "      <td>24.00</td>\n",
              "      <td>0</td>\n",
              "      <td>0</td>\n",
              "      <td>3.449988</td>\n",
              "      <td>1</td>\n",
              "    </tr>\n",
              "    <tr>\n",
              "      <th>884</th>\n",
              "      <td>1</td>\n",
              "      <td>2</td>\n",
              "      <td>25.00</td>\n",
              "      <td>0</td>\n",
              "      <td>0</td>\n",
              "      <td>2.085672</td>\n",
              "      <td>3</td>\n",
              "    </tr>\n",
              "    <tr>\n",
              "      <th>247</th>\n",
              "      <td>0</td>\n",
              "      <td>2</td>\n",
              "      <td>24.00</td>\n",
              "      <td>0</td>\n",
              "      <td>2</td>\n",
              "      <td>2.740840</td>\n",
              "      <td>2</td>\n",
              "    </tr>\n",
              "    <tr>\n",
              "      <th>478</th>\n",
              "      <td>1</td>\n",
              "      <td>2</td>\n",
              "      <td>22.00</td>\n",
              "      <td>0</td>\n",
              "      <td>0</td>\n",
              "      <td>2.142510</td>\n",
              "      <td>3</td>\n",
              "    </tr>\n",
              "    <tr>\n",
              "      <th>305</th>\n",
              "      <td>1</td>\n",
              "      <td>2</td>\n",
              "      <td>0.92</td>\n",
              "      <td>1</td>\n",
              "      <td>2</td>\n",
              "      <td>5.027492</td>\n",
              "      <td>1</td>\n",
              "    </tr>\n",
              "    <tr>\n",
              "      <th>...</th>\n",
              "      <td>...</td>\n",
              "      <td>...</td>\n",
              "      <td>...</td>\n",
              "      <td>...</td>\n",
              "      <td>...</td>\n",
              "      <td>...</td>\n",
              "      <td>...</td>\n",
              "    </tr>\n",
              "    <tr>\n",
              "      <th>106</th>\n",
              "      <td>0</td>\n",
              "      <td>2</td>\n",
              "      <td>21.00</td>\n",
              "      <td>0</td>\n",
              "      <td>0</td>\n",
              "      <td>2.157559</td>\n",
              "      <td>3</td>\n",
              "    </tr>\n",
              "    <tr>\n",
              "      <th>270</th>\n",
              "      <td>1</td>\n",
              "      <td>2</td>\n",
              "      <td>24.00</td>\n",
              "      <td>0</td>\n",
              "      <td>0</td>\n",
              "      <td>3.465736</td>\n",
              "      <td>1</td>\n",
              "    </tr>\n",
              "    <tr>\n",
              "      <th>860</th>\n",
              "      <td>1</td>\n",
              "      <td>2</td>\n",
              "      <td>41.00</td>\n",
              "      <td>2</td>\n",
              "      <td>0</td>\n",
              "      <td>2.715244</td>\n",
              "      <td>3</td>\n",
              "    </tr>\n",
              "    <tr>\n",
              "      <th>435</th>\n",
              "      <td>0</td>\n",
              "      <td>2</td>\n",
              "      <td>14.00</td>\n",
              "      <td>1</td>\n",
              "      <td>2</td>\n",
              "      <td>4.795791</td>\n",
              "      <td>1</td>\n",
              "    </tr>\n",
              "    <tr>\n",
              "      <th>102</th>\n",
              "      <td>1</td>\n",
              "      <td>2</td>\n",
              "      <td>21.00</td>\n",
              "      <td>0</td>\n",
              "      <td>1</td>\n",
              "      <td>4.360388</td>\n",
              "      <td>1</td>\n",
              "    </tr>\n",
              "  </tbody>\n",
              "</table>\n",
              "<p>668 rows × 7 columns</p>\n",
              "</div>\n",
              "      <button class=\"colab-df-convert\" onclick=\"convertToInteractive('df-7bad3610-135a-4e27-a0e4-167c46b85174')\"\n",
              "              title=\"Convert this dataframe to an interactive table.\"\n",
              "              style=\"display:none;\">\n",
              "        \n",
              "  <svg xmlns=\"http://www.w3.org/2000/svg\" height=\"24px\"viewBox=\"0 0 24 24\"\n",
              "       width=\"24px\">\n",
              "    <path d=\"M0 0h24v24H0V0z\" fill=\"none\"/>\n",
              "    <path d=\"M18.56 5.44l.94 2.06.94-2.06 2.06-.94-2.06-.94-.94-2.06-.94 2.06-2.06.94zm-11 1L8.5 8.5l.94-2.06 2.06-.94-2.06-.94L8.5 2.5l-.94 2.06-2.06.94zm10 10l.94 2.06.94-2.06 2.06-.94-2.06-.94-.94-2.06-.94 2.06-2.06.94z\"/><path d=\"M17.41 7.96l-1.37-1.37c-.4-.4-.92-.59-1.43-.59-.52 0-1.04.2-1.43.59L10.3 9.45l-7.72 7.72c-.78.78-.78 2.05 0 2.83L4 21.41c.39.39.9.59 1.41.59.51 0 1.02-.2 1.41-.59l7.78-7.78 2.81-2.81c.8-.78.8-2.07 0-2.86zM5.41 20L4 18.59l7.72-7.72 1.47 1.35L5.41 20z\"/>\n",
              "  </svg>\n",
              "      </button>\n",
              "      \n",
              "  <style>\n",
              "    .colab-df-container {\n",
              "      display:flex;\n",
              "      flex-wrap:wrap;\n",
              "      gap: 12px;\n",
              "    }\n",
              "\n",
              "    .colab-df-convert {\n",
              "      background-color: #E8F0FE;\n",
              "      border: none;\n",
              "      border-radius: 50%;\n",
              "      cursor: pointer;\n",
              "      display: none;\n",
              "      fill: #1967D2;\n",
              "      height: 32px;\n",
              "      padding: 0 0 0 0;\n",
              "      width: 32px;\n",
              "    }\n",
              "\n",
              "    .colab-df-convert:hover {\n",
              "      background-color: #E2EBFA;\n",
              "      box-shadow: 0px 1px 2px rgba(60, 64, 67, 0.3), 0px 1px 3px 1px rgba(60, 64, 67, 0.15);\n",
              "      fill: #174EA6;\n",
              "    }\n",
              "\n",
              "    [theme=dark] .colab-df-convert {\n",
              "      background-color: #3B4455;\n",
              "      fill: #D2E3FC;\n",
              "    }\n",
              "\n",
              "    [theme=dark] .colab-df-convert:hover {\n",
              "      background-color: #434B5C;\n",
              "      box-shadow: 0px 1px 3px 1px rgba(0, 0, 0, 0.15);\n",
              "      filter: drop-shadow(0px 1px 2px rgba(0, 0, 0, 0.3));\n",
              "      fill: #FFFFFF;\n",
              "    }\n",
              "  </style>\n",
              "\n",
              "      <script>\n",
              "        const buttonEl =\n",
              "          document.querySelector('#df-7bad3610-135a-4e27-a0e4-167c46b85174 button.colab-df-convert');\n",
              "        buttonEl.style.display =\n",
              "          google.colab.kernel.accessAllowed ? 'block' : 'none';\n",
              "\n",
              "        async function convertToInteractive(key) {\n",
              "          const element = document.querySelector('#df-7bad3610-135a-4e27-a0e4-167c46b85174');\n",
              "          const dataTable =\n",
              "            await google.colab.kernel.invokeFunction('convertToInteractive',\n",
              "                                                     [key], {});\n",
              "          if (!dataTable) return;\n",
              "\n",
              "          const docLinkHtml = 'Like what you see? Visit the ' +\n",
              "            '<a target=\"_blank\" href=https://colab.research.google.com/notebooks/data_table.ipynb>data table notebook</a>'\n",
              "            + ' to learn more about interactive tables.';\n",
              "          element.innerHTML = '';\n",
              "          dataTable['output_type'] = 'display_data';\n",
              "          await google.colab.output.renderOutput(dataTable, element);\n",
              "          const docLink = document.createElement('div');\n",
              "          docLink.innerHTML = docLinkHtml;\n",
              "          element.appendChild(docLink);\n",
              "        }\n",
              "      </script>\n",
              "    </div>\n",
              "  </div>\n",
              "  "
            ]
          },
          "metadata": {},
          "execution_count": 38
        }
      ]
    },
    {
      "cell_type": "code",
      "source": [
        "trn_y"
      ],
      "metadata": {
        "colab": {
          "base_uri": "https://localhost:8080/"
        },
        "id": "OI4fuCfz172R",
        "outputId": "a2ca590f-8ef1-48de-8fac-8c67a079d645"
      },
      "execution_count": null,
      "outputs": [
        {
          "output_type": "execute_result",
          "data": {
            "text/plain": [
              "298    1\n",
              "884    0\n",
              "247    1\n",
              "478    0\n",
              "305    1\n",
              "      ..\n",
              "106    1\n",
              "270    0\n",
              "860    0\n",
              "435    1\n",
              "102    0\n",
              "Name: Survived, Length: 668, dtype: int64"
            ]
          },
          "metadata": {},
          "execution_count": 39
        }
      ]
    },
    {
      "cell_type": "code",
      "source": [
        "n = len(trn_y)\n",
        "idxs = random.choice(n, int(n*0.75))\n",
        "idxs"
      ],
      "metadata": {
        "colab": {
          "base_uri": "https://localhost:8080/"
        },
        "id": "3sV1b7k81_Wf",
        "outputId": "07434003-4c96-46c9-8da2-d2ff70abd0bd"
      },
      "execution_count": null,
      "outputs": [
        {
          "output_type": "execute_result",
          "data": {
            "text/plain": [
              "array([230, 489, 578, 532, 294,  41, 528, 498, 565, 104, 152, 404,  18, 412,  54, 178, 199, 162, 324, 123, 507, 409, 666, 252,\n",
              "       278, 576, 625, 219, 245, 590,  68, 494, 661, 379,   0, 142,  93,  66, 453,   4, 280, 330,  61, 141, 600, 368, 376, 435,\n",
              "       538,  51, 232,   0, 388, 191, 615, 100, 225, 379, 503, 428, 370,  17, 526, 509,  32, 243, 266, 540, 519, 541, 585, 574,\n",
              "       128, 520, 310, 490, 376,   2, 513, 443, 455, 605, 657,  58, 514, 517, 626, 621, 526, 597,  82, 241, 205, 598,  24, 160,\n",
              "       192, 116, 465, 563, 472, 526, 562, 126, 317, 571, 200,  88, 545, 615, 366, 522, 206, 498, 284, 522, 384, 464, 412, 190,\n",
              "       570, 491, 602, 291, 654, 606,  59, 270,  33,  15, 288, 125, 604, 479,  31, 399,  78, 539, 141, 215, 376, 610, 158,  21,\n",
              "        24, 557,  41, 544, 506, 611, 345, 581, 466, 497, 311, 152, 313, 201, 559, 106, 201, 463, 368, 225, 103, 437, 576, 503,\n",
              "       445, 453, 146, 517, 370, 451, 649, 631, 170, 566, 380, 630, 245, 648, 446, 232, 382, 139, 557, 360,  77, 453, 558, 443,\n",
              "       568,  62, 285, 473,  83,   4, 654, 588, 426,  10,  50, 395, 502, 372, 439, 402, 653, 336, 577, 614, 504, 421, 179, 406,\n",
              "        93, 576,   5, 206, 419, 217, 501, 449, 180, 492, 618, 623, 137,   3, 465, 363, 597, 573, 425,  28, 206, 511, 425, 394,\n",
              "       474, 245, 370, 142, 642,  27, 115, 436,  14,  39, 473,  33, 547, 282, 397, 241, 130, 130, 598, 187, 421, 483, 124, 641,\n",
              "       114, 462,  99, 475,  29, 607, 242,  78, 190, 665, 531, 502, 114, 281, 479, 525,  85, 603, 507, 549, 184, 541, 226, 566,\n",
              "       353, 108, 332, 577, 463, 437, 342, 364, 336,  15, 141,  65, 555, 647,  87, 185,  38, 305, 426, 542,  63,  84, 659, 257,\n",
              "       298, 551,  57, 112,  85, 268, 511, 122, 467, 107, 222, 409, 244, 221, 635, 328, 422, 244, 543,  75, 379,  90, 301, 537,\n",
              "       106, 205, 394, 609,   7,  14, 192, 500,   5, 114,  65,  94, 180,  18, 524, 123, 263, 376,  91, 346, 567, 116, 293, 361,\n",
              "       573, 188, 301, 417, 536, 512, 458, 270, 473, 558, 165, 160, 410, 435, 267, 377, 444, 420,   5, 214, 462, 382, 347, 391,\n",
              "       517, 187, 153, 176, 126, 141, 425, 368, 598, 569, 422, 252, 663, 247,  15, 396, 113, 413, 140, 338, 154, 421, 491,  37,\n",
              "       178, 150, 655,  45, 510, 113, 432, 399, 266, 409, 232,  14, 185, 337,  17, 196, 285, 158, 664, 362, 466, 209, 495, 130,\n",
              "       529, 355, 435, 287, 560, 164,  70, 283,  31, 168, 419,  85,   9, 528, 351, 567, 138, 300, 126, 528, 191, 474, 633, 566,\n",
              "       206, 260, 106, 631, 332,  41, 347, 130,  96, 504, 284, 461, 619, 643, 177, 216, 392,  11, 311, 516, 476, 614, 176, 275,\n",
              "       639, 284, 246, 210, 291,  96, 647, 157, 188, 251, 350, 384, 466, 310, 109, 592, 105, 542,  63, 275, 375])"
            ]
          },
          "metadata": {},
          "execution_count": 49
        }
      ]
    },
    {
      "cell_type": "code",
      "source": [
        "int(n*0.75)"
      ],
      "metadata": {
        "colab": {
          "base_uri": "https://localhost:8080/"
        },
        "id": "04AjPP5b4tbo",
        "outputId": "ac603902-0ea2-453b-e8d0-8ba147dfbb85"
      },
      "execution_count": null,
      "outputs": [
        {
          "output_type": "execute_result",
          "data": {
            "text/plain": [
              "501"
            ]
          },
          "metadata": {},
          "execution_count": 44
        }
      ]
    },
    {
      "cell_type": "code",
      "source": [
        "n"
      ],
      "metadata": {
        "colab": {
          "base_uri": "https://localhost:8080/"
        },
        "id": "OaAwyHWq4ui5",
        "outputId": "a4307be0-57b8-4808-a084-fd91c30d8717"
      },
      "execution_count": null,
      "outputs": [
        {
          "output_type": "execute_result",
          "data": {
            "text/plain": [
              "668"
            ]
          },
          "metadata": {},
          "execution_count": 45
        }
      ]
    },
    {
      "cell_type": "code",
      "source": [
        "random.choice(300,400)"
      ],
      "metadata": {
        "colab": {
          "base_uri": "https://localhost:8080/"
        },
        "id": "-R_oit3A4x5J",
        "outputId": "209346e6-a676-44af-fed1-a251cc8a8624"
      },
      "execution_count": null,
      "outputs": [
        {
          "output_type": "execute_result",
          "data": {
            "text/plain": [
              "array([284, 230, 182,  72,  32, 145, 180, 265,  27,  60, 219, 187,  86, 153,  42,  32, 275,  15, 159, 117,  10, 107, 103, 110,\n",
              "       153, 118,   0, 229, 267,  72,  94, 211, 146,  95, 118, 286,  21, 120,  75,  82,  65, 259, 157, 150, 276,   6,  75, 104,\n",
              "       202,  45, 205, 294, 194,  99, 245, 102, 215, 168,  31, 221, 163,  69, 183, 106,  67,  67, 140, 250, 234,  79,  23,  39,\n",
              "       151, 151, 229, 146, 285,  88, 199, 247, 223, 237, 107, 191, 240,  96, 228, 265, 245, 151, 227, 130,  46, 228,  87, 207,\n",
              "        52, 207, 271, 259,  23, 238, 158,  87, 250,  87, 159,  78, 230,  11, 272, 232, 105, 240, 152, 246, 281, 195,  28,  78,\n",
              "       182, 225,  79,  39,   4,  36,  73, 120,  30, 249,  13, 289,  52, 100,  20, 292,  95, 228, 272, 227, 158,  49, 177, 298,\n",
              "        16, 197, 221, 146, 189,  39,  36,  94, 143,  76,  25, 192, 289, 123, 134, 192, 191, 145, 188, 127, 252, 209,  15, 191,\n",
              "       285, 232, 125,  91, 137,  74, 118,  69, 284,  21, 299,  62, 177, 124,  19, 107, 142, 132, 270,  10,  32, 100, 163, 162,\n",
              "       200,  74, 236,  32,  90,  93,  23, 192, 261,  75, 281, 244, 181, 189, 267, 151, 294, 149, 251, 232, 205,   3,  28, 133,\n",
              "        46,  54, 233, 102, 245, 172, 135, 266, 155, 223,  97,  48, 149,  60, 242, 172,  40,  93, 146, 299,  25, 143, 133,  36,\n",
              "       205, 151, 167, 202, 158, 178, 216, 147, 158, 143,  69, 298, 122, 266, 118,  64, 185, 154, 168, 248, 222,   1, 212,  88,\n",
              "        12,  35,  80, 237, 203, 213,  14, 134, 130, 147,  25,  44,  27,  44, 187, 295,   8,  70, 295, 265, 252, 172, 195, 239,\n",
              "       185, 146, 119, 175,  27,  21,  85, 167, 299, 101,  30,  90, 260, 196, 126,  92, 193, 269,  52, 156, 228, 165,  92, 156,\n",
              "       297, 108, 205, 278, 153, 227, 165, 277, 209, 267,  62, 111, 185, 112,  73, 132, 116,  98, 296, 149,  30, 156, 188,  15,\n",
              "        54, 144,  17,  59, 284, 232, 218,  94, 214, 105, 250, 118,  53,  44, 102, 130, 128, 182, 233, 272, 284,  17, 233, 115,\n",
              "        89,  87,  96,  75, 234, 106, 142,   8, 158,  97,  47, 101, 108, 101, 128, 120,  62, 251,  33, 192, 224, 266,   8, 262,\n",
              "        45, 121, 176, 263, 163,  44, 115, 241,  18, 220, 210, 286,  46, 252, 220, 276])"
            ]
          },
          "metadata": {},
          "execution_count": 50
        }
      ]
    },
    {
      "cell_type": "code",
      "source": [
        "val_xs"
      ],
      "metadata": {
        "colab": {
          "base_uri": "https://localhost:8080/",
          "height": 424
        },
        "id": "BH_TwLSQ5HTM",
        "outputId": "bdc993f5-064b-40f9-d3c7-1e2feb4bd23b"
      },
      "execution_count": null,
      "outputs": [
        {
          "output_type": "execute_result",
          "data": {
            "text/plain": [
              "     Sex  Embarked   Age  SibSp  Parch   LogFare  Pclass\n",
              "709    1         0  24.0      1      1  2.787834       3\n",
              "439    1         2  31.0      0      0  2.442347       2\n",
              "840    1         2  20.0      0      0  2.188856       3\n",
              "720    0         2   6.0      0      1  3.526361       2\n",
              "39     0         0  14.0      1      0  2.504848       3\n",
              "..   ...       ...   ...    ...    ...       ...     ...\n",
              "880    0         2  25.0      0      1  3.295837       2\n",
              "425    1         2  24.0      0      0  2.110213       3\n",
              "101    1         2  24.0      0      0  2.185579       3\n",
              "199    0         2  24.0      0      0  2.639057       2\n",
              "424    1         2  18.0      1      1  3.054591       3\n",
              "\n",
              "[223 rows x 7 columns]"
            ],
            "text/html": [
              "\n",
              "  <div id=\"df-390278ff-e64e-4a5f-97a8-2fdf363ea40a\">\n",
              "    <div class=\"colab-df-container\">\n",
              "      <div>\n",
              "<style scoped>\n",
              "    .dataframe tbody tr th:only-of-type {\n",
              "        vertical-align: middle;\n",
              "    }\n",
              "\n",
              "    .dataframe tbody tr th {\n",
              "        vertical-align: top;\n",
              "    }\n",
              "\n",
              "    .dataframe thead th {\n",
              "        text-align: right;\n",
              "    }\n",
              "</style>\n",
              "<table border=\"1\" class=\"dataframe\">\n",
              "  <thead>\n",
              "    <tr style=\"text-align: right;\">\n",
              "      <th></th>\n",
              "      <th>Sex</th>\n",
              "      <th>Embarked</th>\n",
              "      <th>Age</th>\n",
              "      <th>SibSp</th>\n",
              "      <th>Parch</th>\n",
              "      <th>LogFare</th>\n",
              "      <th>Pclass</th>\n",
              "    </tr>\n",
              "  </thead>\n",
              "  <tbody>\n",
              "    <tr>\n",
              "      <th>709</th>\n",
              "      <td>1</td>\n",
              "      <td>0</td>\n",
              "      <td>24.0</td>\n",
              "      <td>1</td>\n",
              "      <td>1</td>\n",
              "      <td>2.787834</td>\n",
              "      <td>3</td>\n",
              "    </tr>\n",
              "    <tr>\n",
              "      <th>439</th>\n",
              "      <td>1</td>\n",
              "      <td>2</td>\n",
              "      <td>31.0</td>\n",
              "      <td>0</td>\n",
              "      <td>0</td>\n",
              "      <td>2.442347</td>\n",
              "      <td>2</td>\n",
              "    </tr>\n",
              "    <tr>\n",
              "      <th>840</th>\n",
              "      <td>1</td>\n",
              "      <td>2</td>\n",
              "      <td>20.0</td>\n",
              "      <td>0</td>\n",
              "      <td>0</td>\n",
              "      <td>2.188856</td>\n",
              "      <td>3</td>\n",
              "    </tr>\n",
              "    <tr>\n",
              "      <th>720</th>\n",
              "      <td>0</td>\n",
              "      <td>2</td>\n",
              "      <td>6.0</td>\n",
              "      <td>0</td>\n",
              "      <td>1</td>\n",
              "      <td>3.526361</td>\n",
              "      <td>2</td>\n",
              "    </tr>\n",
              "    <tr>\n",
              "      <th>39</th>\n",
              "      <td>0</td>\n",
              "      <td>0</td>\n",
              "      <td>14.0</td>\n",
              "      <td>1</td>\n",
              "      <td>0</td>\n",
              "      <td>2.504848</td>\n",
              "      <td>3</td>\n",
              "    </tr>\n",
              "    <tr>\n",
              "      <th>...</th>\n",
              "      <td>...</td>\n",
              "      <td>...</td>\n",
              "      <td>...</td>\n",
              "      <td>...</td>\n",
              "      <td>...</td>\n",
              "      <td>...</td>\n",
              "      <td>...</td>\n",
              "    </tr>\n",
              "    <tr>\n",
              "      <th>880</th>\n",
              "      <td>0</td>\n",
              "      <td>2</td>\n",
              "      <td>25.0</td>\n",
              "      <td>0</td>\n",
              "      <td>1</td>\n",
              "      <td>3.295837</td>\n",
              "      <td>2</td>\n",
              "    </tr>\n",
              "    <tr>\n",
              "      <th>425</th>\n",
              "      <td>1</td>\n",
              "      <td>2</td>\n",
              "      <td>24.0</td>\n",
              "      <td>0</td>\n",
              "      <td>0</td>\n",
              "      <td>2.110213</td>\n",
              "      <td>3</td>\n",
              "    </tr>\n",
              "    <tr>\n",
              "      <th>101</th>\n",
              "      <td>1</td>\n",
              "      <td>2</td>\n",
              "      <td>24.0</td>\n",
              "      <td>0</td>\n",
              "      <td>0</td>\n",
              "      <td>2.185579</td>\n",
              "      <td>3</td>\n",
              "    </tr>\n",
              "    <tr>\n",
              "      <th>199</th>\n",
              "      <td>0</td>\n",
              "      <td>2</td>\n",
              "      <td>24.0</td>\n",
              "      <td>0</td>\n",
              "      <td>0</td>\n",
              "      <td>2.639057</td>\n",
              "      <td>2</td>\n",
              "    </tr>\n",
              "    <tr>\n",
              "      <th>424</th>\n",
              "      <td>1</td>\n",
              "      <td>2</td>\n",
              "      <td>18.0</td>\n",
              "      <td>1</td>\n",
              "      <td>1</td>\n",
              "      <td>3.054591</td>\n",
              "      <td>3</td>\n",
              "    </tr>\n",
              "  </tbody>\n",
              "</table>\n",
              "<p>223 rows × 7 columns</p>\n",
              "</div>\n",
              "      <button class=\"colab-df-convert\" onclick=\"convertToInteractive('df-390278ff-e64e-4a5f-97a8-2fdf363ea40a')\"\n",
              "              title=\"Convert this dataframe to an interactive table.\"\n",
              "              style=\"display:none;\">\n",
              "        \n",
              "  <svg xmlns=\"http://www.w3.org/2000/svg\" height=\"24px\"viewBox=\"0 0 24 24\"\n",
              "       width=\"24px\">\n",
              "    <path d=\"M0 0h24v24H0V0z\" fill=\"none\"/>\n",
              "    <path d=\"M18.56 5.44l.94 2.06.94-2.06 2.06-.94-2.06-.94-.94-2.06-.94 2.06-2.06.94zm-11 1L8.5 8.5l.94-2.06 2.06-.94-2.06-.94L8.5 2.5l-.94 2.06-2.06.94zm10 10l.94 2.06.94-2.06 2.06-.94-2.06-.94-.94-2.06-.94 2.06-2.06.94z\"/><path d=\"M17.41 7.96l-1.37-1.37c-.4-.4-.92-.59-1.43-.59-.52 0-1.04.2-1.43.59L10.3 9.45l-7.72 7.72c-.78.78-.78 2.05 0 2.83L4 21.41c.39.39.9.59 1.41.59.51 0 1.02-.2 1.41-.59l7.78-7.78 2.81-2.81c.8-.78.8-2.07 0-2.86zM5.41 20L4 18.59l7.72-7.72 1.47 1.35L5.41 20z\"/>\n",
              "  </svg>\n",
              "      </button>\n",
              "      \n",
              "  <style>\n",
              "    .colab-df-container {\n",
              "      display:flex;\n",
              "      flex-wrap:wrap;\n",
              "      gap: 12px;\n",
              "    }\n",
              "\n",
              "    .colab-df-convert {\n",
              "      background-color: #E8F0FE;\n",
              "      border: none;\n",
              "      border-radius: 50%;\n",
              "      cursor: pointer;\n",
              "      display: none;\n",
              "      fill: #1967D2;\n",
              "      height: 32px;\n",
              "      padding: 0 0 0 0;\n",
              "      width: 32px;\n",
              "    }\n",
              "\n",
              "    .colab-df-convert:hover {\n",
              "      background-color: #E2EBFA;\n",
              "      box-shadow: 0px 1px 2px rgba(60, 64, 67, 0.3), 0px 1px 3px 1px rgba(60, 64, 67, 0.15);\n",
              "      fill: #174EA6;\n",
              "    }\n",
              "\n",
              "    [theme=dark] .colab-df-convert {\n",
              "      background-color: #3B4455;\n",
              "      fill: #D2E3FC;\n",
              "    }\n",
              "\n",
              "    [theme=dark] .colab-df-convert:hover {\n",
              "      background-color: #434B5C;\n",
              "      box-shadow: 0px 1px 3px 1px rgba(0, 0, 0, 0.15);\n",
              "      filter: drop-shadow(0px 1px 2px rgba(0, 0, 0, 0.3));\n",
              "      fill: #FFFFFF;\n",
              "    }\n",
              "  </style>\n",
              "\n",
              "      <script>\n",
              "        const buttonEl =\n",
              "          document.querySelector('#df-390278ff-e64e-4a5f-97a8-2fdf363ea40a button.colab-df-convert');\n",
              "        buttonEl.style.display =\n",
              "          google.colab.kernel.accessAllowed ? 'block' : 'none';\n",
              "\n",
              "        async function convertToInteractive(key) {\n",
              "          const element = document.querySelector('#df-390278ff-e64e-4a5f-97a8-2fdf363ea40a');\n",
              "          const dataTable =\n",
              "            await google.colab.kernel.invokeFunction('convertToInteractive',\n",
              "                                                     [key], {});\n",
              "          if (!dataTable) return;\n",
              "\n",
              "          const docLinkHtml = 'Like what you see? Visit the ' +\n",
              "            '<a target=\"_blank\" href=https://colab.research.google.com/notebooks/data_table.ipynb>data table notebook</a>'\n",
              "            + ' to learn more about interactive tables.';\n",
              "          element.innerHTML = '';\n",
              "          dataTable['output_type'] = 'display_data';\n",
              "          await google.colab.output.renderOutput(dataTable, element);\n",
              "          const docLink = document.createElement('div');\n",
              "          docLink.innerHTML = docLinkHtml;\n",
              "          element.appendChild(docLink);\n",
              "        }\n",
              "      </script>\n",
              "    </div>\n",
              "  </div>\n",
              "  "
            ]
          },
          "metadata": {},
          "execution_count": 51
        }
      ]
    },
    {
      "cell_type": "code",
      "source": [],
      "metadata": {
        "id": "yNlgIrCk5gb2"
      },
      "execution_count": null,
      "outputs": []
    }
  ]
}